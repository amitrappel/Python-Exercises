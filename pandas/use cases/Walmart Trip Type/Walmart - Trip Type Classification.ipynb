{
 "cells": [
  {
   "cell_type": "markdown",
   "metadata": {},
   "source": [
    "# Walmart - Trip type classification"
   ]
  },
  {
   "cell_type": "markdown",
   "metadata": {},
   "source": [
    "This use-case deals with the preparation of the data for [Kaggle's Walmart Trip Type Classification competition][1]. It is advised to have a look at the data before starting to work with it.\n",
    "\n",
    "[1]: https://www.kaggle.com/c/walmart-recruiting-trip-type-classification \"Walmart Trip Type classification competition\""
   ]
  },
  {
   "cell_type": "code",
   "execution_count": 1,
   "metadata": {
    "collapsed": false
   },
   "outputs": [],
   "source": [
    "import numpy as np\n",
    "import pandas as pd\n",
    "import matplotlib.pyplot as plt\n",
    "import seaborn as sns\n",
    "from time import time\n",
    "from os import getcwd\n",
    "\n",
    "pd.set_option('notebook_repr_html', True, 'max_columns', 0)\n",
    "%matplotlib inline"
   ]
  },
  {
   "cell_type": "markdown",
   "metadata": {},
   "source": [
    "## Getting the data"
   ]
  },
  {
   "cell_type": "markdown",
   "metadata": {},
   "source": [
    "Each record in the data refers to a single **item**, but since we use the data to predict something about a **trip**, we will construct a data frame with a record per trip. We note that _VisitNumber_ is inuitively the index of the data frame, although it is not unique. So, for the rest of this analysis, unless specified otherwise, the index of the data-frames will be the _VisitNumber_."
   ]
  },
  {
   "cell_type": "code",
   "execution_count": 2,
   "metadata": {
    "collapsed": false
   },
   "outputs": [
    {
     "data": {
      "text/html": [
       "<div>\n",
       "<table border=\"1\" class=\"dataframe\">\n",
       "  <thead>\n",
       "    <tr style=\"text-align: right;\">\n",
       "      <th></th>\n",
       "      <th>TripType</th>\n",
       "      <th>Weekday</th>\n",
       "      <th>UPC</th>\n",
       "      <th>ScanCount</th>\n",
       "      <th>DepDesc</th>\n",
       "      <th>Fineline</th>\n",
       "    </tr>\n",
       "    <tr>\n",
       "      <th>Visit</th>\n",
       "      <th></th>\n",
       "      <th></th>\n",
       "      <th></th>\n",
       "      <th></th>\n",
       "      <th></th>\n",
       "      <th></th>\n",
       "    </tr>\n",
       "  </thead>\n",
       "  <tbody>\n",
       "    <tr>\n",
       "      <th>5</th>\n",
       "      <td>999</td>\n",
       "      <td>Friday</td>\n",
       "      <td>6.811315e+10</td>\n",
       "      <td>-1</td>\n",
       "      <td>FINANCIAL SERVICES</td>\n",
       "      <td>1000.0</td>\n",
       "    </tr>\n",
       "    <tr>\n",
       "      <th>7</th>\n",
       "      <td>30</td>\n",
       "      <td>Friday</td>\n",
       "      <td>6.053882e+10</td>\n",
       "      <td>1</td>\n",
       "      <td>SHOES</td>\n",
       "      <td>8931.0</td>\n",
       "    </tr>\n",
       "    <tr>\n",
       "      <th>7</th>\n",
       "      <td>30</td>\n",
       "      <td>Friday</td>\n",
       "      <td>7.410811e+09</td>\n",
       "      <td>1</td>\n",
       "      <td>PERSONAL CARE</td>\n",
       "      <td>4504.0</td>\n",
       "    </tr>\n",
       "    <tr>\n",
       "      <th>8</th>\n",
       "      <td>26</td>\n",
       "      <td>Friday</td>\n",
       "      <td>2.238404e+09</td>\n",
       "      <td>2</td>\n",
       "      <td>PAINT AND ACCESSORIES</td>\n",
       "      <td>3565.0</td>\n",
       "    </tr>\n",
       "    <tr>\n",
       "      <th>8</th>\n",
       "      <td>26</td>\n",
       "      <td>Friday</td>\n",
       "      <td>2.006614e+09</td>\n",
       "      <td>2</td>\n",
       "      <td>PAINT AND ACCESSORIES</td>\n",
       "      <td>1017.0</td>\n",
       "    </tr>\n",
       "  </tbody>\n",
       "</table>\n",
       "</div>"
      ],
      "text/plain": [
       "       TripType Weekday           UPC  ScanCount                DepDesc  Fineline\n",
       "Visit                                                                            \n",
       "5           999  Friday  6.811315e+10         -1     FINANCIAL SERVICES    1000.0\n",
       "7            30  Friday  6.053882e+10          1                  SHOES    8931.0\n",
       "7            30  Friday  7.410811e+09          1          PERSONAL CARE    4504.0\n",
       "8            26  Friday  2.238404e+09          2  PAINT AND ACCESSORIES    3565.0\n",
       "8            26  Friday  2.006614e+09          2  PAINT AND ACCESSORIES    1017.0"
      ]
     },
     "execution_count": 2,
     "metadata": {},
     "output_type": "execute_result"
    }
   ],
   "source": [
    "train = pd.read_csv(getcwd() + \"\\\\train.csv\", \n",
    "                    index_col='VisitNumber')\n",
    "train.columns = ['TripType', 'Weekday', 'UPC', 'ScanCount', 'DepDesc', 'Fineline']\n",
    "train.index.rename('Visit', inplace=True)\n",
    "train.head()"
   ]
  },
  {
   "cell_type": "markdown",
   "metadata": {},
   "source": [
    "> **NOTE:** I changed the names of the index andd some of the columns for better printout."
   ]
  },
  {
   "cell_type": "markdown",
   "metadata": {},
   "source": [
    "Since we are going to aggregate many things by _VisitNumber_ it will be useful to evaluate the corresponding GroupBy objects once."
   ]
  },
  {
   "cell_type": "code",
   "execution_count": 3,
   "metadata": {
    "collapsed": false
   },
   "outputs": [],
   "source": [
    "train_grp = train.groupby(level='Visit')"
   ]
  },
  {
   "cell_type": "markdown",
   "metadata": {},
   "source": [
    "The features _Weekday_ and _DepartmentDescription_ are obviously categorical, so we cast them accordingly."
   ]
  },
  {
   "cell_type": "code",
   "execution_count": 4,
   "metadata": {
    "collapsed": false
   },
   "outputs": [],
   "source": [
    "days = ['Monday', 'Tuesday', 'Wednesday', 'Thursday', \n",
    "        'Friday', 'Saturday', 'Sunday']\n",
    "train['Weekday'] = train['Weekday']\\\n",
    "    .astype('category', categories=days, ordered=True)\n",
    "train['DepDesc'] = train['DepDesc']\\\n",
    "    .astype('category')"
   ]
  },
  {
   "cell_type": "markdown",
   "metadata": {},
   "source": [
    "## Data Exploration"
   ]
  },
  {
   "cell_type": "markdown",
   "metadata": {},
   "source": [
    "### Getting to know the details"
   ]
  },
  {
   "cell_type": "markdown",
   "metadata": {},
   "source": [
    "#### General information"
   ]
  },
  {
   "cell_type": "markdown",
   "metadata": {},
   "source": [
    "First we have an overview using the _info()_ method."
   ]
  },
  {
   "cell_type": "code",
   "execution_count": 5,
   "metadata": {
    "collapsed": false
   },
   "outputs": [
    {
     "name": "stdout",
     "output_type": "stream",
     "text": [
      "<class 'pandas.core.frame.DataFrame'>\n",
      "Int64Index: 647054 entries, 5 to 191347\n",
      "Data columns (total 6 columns):\n",
      "TripType     647054 non-null int64\n",
      "Weekday      647054 non-null category\n",
      "UPC          642925 non-null float64\n",
      "ScanCount    647054 non-null int64\n",
      "DepDesc      645693 non-null category\n",
      "Fineline     642925 non-null float64\n",
      "dtypes: category(2), float64(2), int64(2)\n",
      "memory usage: 25.9 MB\n"
     ]
    }
   ],
   "source": [
    "train.info()"
   ]
  },
  {
   "cell_type": "markdown",
   "metadata": {},
   "source": [
    "> **Conclusion:** We immediately see there are null entries in the data, but before we deal with that, we would like to further explore the data itself."
   ]
  },
  {
   "cell_type": "markdown",
   "metadata": {},
   "source": [
    "#### Unique values"
   ]
  },
  {
   "cell_type": "code",
   "execution_count": 6,
   "metadata": {
    "collapsed": false
   },
   "outputs": [
    {
     "data": {
      "text/plain": [
       "TripType        38\n",
       "Weekday          7\n",
       "UPC          97714\n",
       "ScanCount       39\n",
       "DepDesc         68\n",
       "Fineline      5195\n",
       "dtype: int64"
      ]
     },
     "execution_count": 6,
     "metadata": {},
     "output_type": "execute_result"
    }
   ],
   "source": [
    "train.apply(pd.Series.nunique)"
   ]
  },
  {
   "cell_type": "code",
   "execution_count": 7,
   "metadata": {
    "collapsed": false
   },
   "outputs": [
    {
     "name": "stdout",
     "output_type": "stream",
     "text": [
      "95674 647054\n"
     ]
    }
   ],
   "source": [
    "n_visits = train.index.nunique()\n",
    "print train.index.nunique(), len(train)"
   ]
  },
  {
   "cell_type": "markdown",
   "metadata": {},
   "source": [
    "#### Examplary visits"
   ]
  },
  {
   "cell_type": "markdown",
   "metadata": {},
   "source": [
    "One of the simplest features of any visit (cart) is the amount of items it contains, so we evaluate the proper aggregation and use it for exploring the data."
   ]
  },
  {
   "cell_type": "code",
   "execution_count": 8,
   "metadata": {
    "collapsed": false
   },
   "outputs": [
    {
     "data": {
      "text/plain": [
       "Visit\n",
       "5     -1\n",
       "7      2\n",
       "8     28\n",
       "9      3\n",
       "10     3\n",
       "Name: ScanCount, dtype: int64"
      ]
     },
     "execution_count": 8,
     "metadata": {},
     "output_type": "execute_result"
    }
   ],
   "source": [
    "df_n_items = train_grp['ScanCount'].sum()\n",
    "df_n_items.head()"
   ]
  },
  {
   "cell_type": "markdown",
   "metadata": {},
   "source": [
    "For inspection purposes we can now find trips with a specific number of items."
   ]
  },
  {
   "cell_type": "code",
   "execution_count": 9,
   "metadata": {
    "collapsed": false
   },
   "outputs": [
    {
     "name": "stdout",
     "output_type": "stream",
     "text": [
      "Visit   98 has 50 items.\n",
      "Visit  274 has 20 items.\n",
      "Visit   29 has  1 items.\n",
      "Visit  133 has  0 items.\n",
      "Visit    5 has -1 items.\n"
     ]
    }
   ],
   "source": [
    "for n_items in [50, 20, 1, 0, -1]:\n",
    "    i_visit = df_n_items.ix[df_n_items == n_items].index[0]\n",
    "    print \"Visit {:4} has {:2} items.\".format(i_visit, n_items)"
   ]
  },
  {
   "cell_type": "markdown",
   "metadata": {},
   "source": [
    "Now we can see exemplary visits with different number of items."
   ]
  },
  {
   "cell_type": "code",
   "execution_count": 10,
   "metadata": {
    "collapsed": false
   },
   "outputs": [
    {
     "data": {
      "text/html": [
       "<div>\n",
       "<table border=\"1\" class=\"dataframe\">\n",
       "  <thead>\n",
       "    <tr style=\"text-align: right;\">\n",
       "      <th></th>\n",
       "      <th>TripType</th>\n",
       "      <th>Weekday</th>\n",
       "      <th>UPC</th>\n",
       "      <th>ScanCount</th>\n",
       "      <th>DepDesc</th>\n",
       "      <th>Fineline</th>\n",
       "    </tr>\n",
       "    <tr>\n",
       "      <th>Visit</th>\n",
       "      <th></th>\n",
       "      <th></th>\n",
       "      <th></th>\n",
       "      <th></th>\n",
       "      <th></th>\n",
       "      <th></th>\n",
       "    </tr>\n",
       "  </thead>\n",
       "  <tbody>\n",
       "    <tr>\n",
       "      <th>98</th>\n",
       "      <td>40</td>\n",
       "      <td>Friday</td>\n",
       "      <td>7.874202e+09</td>\n",
       "      <td>1</td>\n",
       "      <td>DSD GROCERY</td>\n",
       "      <td>3562.0</td>\n",
       "    </tr>\n",
       "    <tr>\n",
       "      <th>98</th>\n",
       "      <td>40</td>\n",
       "      <td>Friday</td>\n",
       "      <td>3.400001e+09</td>\n",
       "      <td>1</td>\n",
       "      <td>CANDY, TOBACCO, COOKIES</td>\n",
       "      <td>78.0</td>\n",
       "    </tr>\n",
       "    <tr>\n",
       "      <th>98</th>\n",
       "      <td>40</td>\n",
       "      <td>Friday</td>\n",
       "      <td>7.874201e+09</td>\n",
       "      <td>1</td>\n",
       "      <td>DSD GROCERY</td>\n",
       "      <td>4672.0</td>\n",
       "    </tr>\n",
       "    <tr>\n",
       "      <th>98</th>\n",
       "      <td>40</td>\n",
       "      <td>Friday</td>\n",
       "      <td>6.053882e+10</td>\n",
       "      <td>2</td>\n",
       "      <td>SHOES</td>\n",
       "      <td>4815.0</td>\n",
       "    </tr>\n",
       "    <tr>\n",
       "      <th>98</th>\n",
       "      <td>40</td>\n",
       "      <td>Friday</td>\n",
       "      <td>7.431255e+09</td>\n",
       "      <td>1</td>\n",
       "      <td>PHARMACY OTC</td>\n",
       "      <td>502.0</td>\n",
       "    </tr>\n",
       "  </tbody>\n",
       "</table>\n",
       "</div>"
      ],
      "text/plain": [
       "       TripType Weekday           UPC  ScanCount                  DepDesc  Fineline\n",
       "Visit                                                                              \n",
       "98           40  Friday  7.874202e+09          1              DSD GROCERY    3562.0\n",
       "98           40  Friday  3.400001e+09          1  CANDY, TOBACCO, COOKIES      78.0\n",
       "98           40  Friday  7.874201e+09          1              DSD GROCERY    4672.0\n",
       "98           40  Friday  6.053882e+10          2                    SHOES    4815.0\n",
       "98           40  Friday  7.431255e+09          1             PHARMACY OTC     502.0"
      ]
     },
     "execution_count": 10,
     "metadata": {},
     "output_type": "execute_result"
    }
   ],
   "source": [
    "train.ix[98].head()"
   ]
  },
  {
   "cell_type": "code",
   "execution_count": 11,
   "metadata": {
    "collapsed": false
   },
   "outputs": [
    {
     "data": {
      "text/html": [
       "<div>\n",
       "<table border=\"1\" class=\"dataframe\">\n",
       "  <thead>\n",
       "    <tr style=\"text-align: right;\">\n",
       "      <th></th>\n",
       "      <th>TripType</th>\n",
       "      <th>Weekday</th>\n",
       "      <th>UPC</th>\n",
       "      <th>ScanCount</th>\n",
       "      <th>DepDesc</th>\n",
       "      <th>Fineline</th>\n",
       "    </tr>\n",
       "    <tr>\n",
       "      <th>Visit</th>\n",
       "      <th></th>\n",
       "      <th></th>\n",
       "      <th></th>\n",
       "      <th></th>\n",
       "      <th></th>\n",
       "      <th></th>\n",
       "    </tr>\n",
       "  </thead>\n",
       "  <tbody>\n",
       "    <tr>\n",
       "      <th>274</th>\n",
       "      <td>40</td>\n",
       "      <td>Friday</td>\n",
       "      <td>4.460031e+09</td>\n",
       "      <td>1</td>\n",
       "      <td>LAWN AND GARDEN</td>\n",
       "      <td>31.0</td>\n",
       "    </tr>\n",
       "    <tr>\n",
       "      <th>274</th>\n",
       "      <td>40</td>\n",
       "      <td>Friday</td>\n",
       "      <td>6.811311e+10</td>\n",
       "      <td>1</td>\n",
       "      <td>HOUSEHOLD PAPER GOODS</td>\n",
       "      <td>4693.0</td>\n",
       "    </tr>\n",
       "    <tr>\n",
       "      <th>274</th>\n",
       "      <td>40</td>\n",
       "      <td>Friday</td>\n",
       "      <td>7.874207e+09</td>\n",
       "      <td>1</td>\n",
       "      <td>HOUSEHOLD PAPER GOODS</td>\n",
       "      <td>6660.0</td>\n",
       "    </tr>\n",
       "    <tr>\n",
       "      <th>274</th>\n",
       "      <td>40</td>\n",
       "      <td>Friday</td>\n",
       "      <td>7.874204e+09</td>\n",
       "      <td>2</td>\n",
       "      <td>DSD GROCERY</td>\n",
       "      <td>9220.0</td>\n",
       "    </tr>\n",
       "    <tr>\n",
       "      <th>274</th>\n",
       "      <td>40</td>\n",
       "      <td>Friday</td>\n",
       "      <td>5.450019e+09</td>\n",
       "      <td>2</td>\n",
       "      <td>PRE PACKED DELI</td>\n",
       "      <td>7503.0</td>\n",
       "    </tr>\n",
       "  </tbody>\n",
       "</table>\n",
       "</div>"
      ],
      "text/plain": [
       "       TripType Weekday           UPC  ScanCount                DepDesc  Fineline\n",
       "Visit                                                                            \n",
       "274          40  Friday  4.460031e+09          1        LAWN AND GARDEN      31.0\n",
       "274          40  Friday  6.811311e+10          1  HOUSEHOLD PAPER GOODS    4693.0\n",
       "274          40  Friday  7.874207e+09          1  HOUSEHOLD PAPER GOODS    6660.0\n",
       "274          40  Friday  7.874204e+09          2            DSD GROCERY    9220.0\n",
       "274          40  Friday  5.450019e+09          2        PRE PACKED DELI    7503.0"
      ]
     },
     "execution_count": 11,
     "metadata": {},
     "output_type": "execute_result"
    }
   ],
   "source": [
    "train.ix[274].head()"
   ]
  },
  {
   "cell_type": "code",
   "execution_count": 12,
   "metadata": {
    "collapsed": false
   },
   "outputs": [
    {
     "data": {
      "text/plain": [
       "TripType               8\n",
       "Weekday           Friday\n",
       "UPC              1.2e+09\n",
       "ScanCount              1\n",
       "DepDesc      DSD GROCERY\n",
       "Name: 29, dtype: object"
      ]
     },
     "execution_count": 12,
     "metadata": {},
     "output_type": "execute_result"
    }
   ],
   "source": [
    "train.ix[29].head()"
   ]
  },
  {
   "cell_type": "code",
   "execution_count": 13,
   "metadata": {
    "collapsed": false
   },
   "outputs": [
    {
     "data": {
      "text/html": [
       "<div>\n",
       "<table border=\"1\" class=\"dataframe\">\n",
       "  <thead>\n",
       "    <tr style=\"text-align: right;\">\n",
       "      <th></th>\n",
       "      <th>TripType</th>\n",
       "      <th>Weekday</th>\n",
       "      <th>UPC</th>\n",
       "      <th>ScanCount</th>\n",
       "      <th>DepDesc</th>\n",
       "      <th>Fineline</th>\n",
       "    </tr>\n",
       "    <tr>\n",
       "      <th>Visit</th>\n",
       "      <th></th>\n",
       "      <th></th>\n",
       "      <th></th>\n",
       "      <th></th>\n",
       "      <th></th>\n",
       "      <th></th>\n",
       "    </tr>\n",
       "  </thead>\n",
       "  <tbody>\n",
       "    <tr>\n",
       "      <th>133</th>\n",
       "      <td>999</td>\n",
       "      <td>Friday</td>\n",
       "      <td>9.933894e+09</td>\n",
       "      <td>-1</td>\n",
       "      <td>LADIESWEAR</td>\n",
       "      <td>1180.0</td>\n",
       "    </tr>\n",
       "    <tr>\n",
       "      <th>133</th>\n",
       "      <td>999</td>\n",
       "      <td>Friday</td>\n",
       "      <td>9.933894e+09</td>\n",
       "      <td>1</td>\n",
       "      <td>LADIESWEAR</td>\n",
       "      <td>1180.0</td>\n",
       "    </tr>\n",
       "  </tbody>\n",
       "</table>\n",
       "</div>"
      ],
      "text/plain": [
       "       TripType Weekday           UPC  ScanCount     DepDesc  Fineline\n",
       "Visit                                                                 \n",
       "133         999  Friday  9.933894e+09         -1  LADIESWEAR    1180.0\n",
       "133         999  Friday  9.933894e+09          1  LADIESWEAR    1180.0"
      ]
     },
     "execution_count": 13,
     "metadata": {},
     "output_type": "execute_result"
    }
   ],
   "source": [
    "train.ix[133].head()"
   ]
  },
  {
   "cell_type": "code",
   "execution_count": 14,
   "metadata": {
    "collapsed": false
   },
   "outputs": [
    {
     "data": {
      "text/plain": [
       "TripType                    999\n",
       "Weekday                  Friday\n",
       "UPC                 6.81132e+10\n",
       "ScanCount                    -1\n",
       "DepDesc      FINANCIAL SERVICES\n",
       "Name: 5, dtype: object"
      ]
     },
     "execution_count": 14,
     "metadata": {},
     "output_type": "execute_result"
    }
   ],
   "source": [
    "train.ix[5].head()"
   ]
  },
  {
   "cell_type": "markdown",
   "metadata": {},
   "source": [
    "### Data visualization"
   ]
  },
  {
   "cell_type": "markdown",
   "metadata": {},
   "source": [
    "#### _TripType_ frequency"
   ]
  },
  {
   "cell_type": "markdown",
   "metadata": {},
   "source": [
    "We want to see how the _TripType_ is distributed in the data. Since the _TripType_ is repeated for all the items in a group of _train_\\__grp_, we can take only the _TripType_ of the first record. We can do it either by the method _nth()_ or by the method _min()_ (this is not very natural, but it works), so this is a good opportunity to make a short benchmark."
   ]
  },
  {
   "cell_type": "code",
   "execution_count": 15,
   "metadata": {
    "collapsed": false
   },
   "outputs": [
    {
     "name": "stdout",
     "output_type": "stream",
     "text": [
      "10 loops, best of 3: 92.7 ms per loop\n"
     ]
    }
   ],
   "source": [
    "%%timeit\n",
    "train_grp.nth(0)['TripType'].value_counts()\\\n",
    "    .sort_values(ascending=False)"
   ]
  },
  {
   "cell_type": "code",
   "execution_count": 16,
   "metadata": {
    "collapsed": false
   },
   "outputs": [
    {
     "name": "stdout",
     "output_type": "stream",
     "text": [
      "100 loops, best of 3: 5.29 ms per loop\n"
     ]
    }
   ],
   "source": [
    "%%timeit\n",
    "train_grp['TripType'].min().value_counts()\\\n",
    "    .sort_values(ascending=False)"
   ]
  },
  {
   "cell_type": "code",
   "execution_count": 17,
   "metadata": {
    "collapsed": false
   },
   "outputs": [
    {
     "data": {
      "text/plain": [
       "8      12161\n",
       "39      9896\n",
       "9       9464\n",
       "999     8444\n",
       "40      6130\n",
       "Name: TripType, dtype: int64"
      ]
     },
     "execution_count": 17,
     "metadata": {},
     "output_type": "execute_result"
    }
   ],
   "source": [
    "ttf = train_grp['TripType'].min().value_counts()\\\n",
    "    .sort_values(ascending=False)\n",
    "ttf.head(5)"
   ]
  },
  {
   "cell_type": "code",
   "execution_count": 18,
   "metadata": {
    "collapsed": false
   },
   "outputs": [
    {
     "data": {
      "text/plain": [
       "<matplotlib.axes._subplots.AxesSubplot at 0x10643cc0>"
      ]
     },
     "execution_count": 18,
     "metadata": {},
     "output_type": "execute_result"
    },
    {
     "data": {
      "image/png": "[encoded data removed]",
      "text/plain": [
       "<matplotlib.figure.Figure at 0xb37b8d0>"
      ]
     },
     "metadata": {},
     "output_type": "display_data"
    }
   ],
   "source": [
    "ttf.plot(kind='bar', figsize=(12, 4), fontsize=14, \n",
    "         title='Trip Type frequency (among visits)')"
   ]
  },
  {
   "cell_type": "markdown",
   "metadata": {},
   "source": [
    "#### TripType vs. Departments"
   ]
  },
  {
   "cell_type": "markdown",
   "metadata": {},
   "source": [
    "We want to see whather there is a relation between the departments of a trip and it type. Note the different conclusions that can be extracted by the different normalizations."
   ]
  },
  {
   "cell_type": "markdown",
   "metadata": {},
   "source": [
    "> **NOTE:** We can use the [_hist2d()_][1] method of matplotlib, but this is a good opportunity to explore the [seaborn][2] package, which is widely used lately by data scientist. More specifically we are going to use the [_heatmap()_][3] method.\n",
    "\n",
    "[1]: http://matplotlib.org/api/pyplot_api.html#matplotlib.pyplot.hist2d \"hist2d API\"\n",
    "[2]: http://seaborn.pydata.org/ \"seaborn homepage\"\n",
    "[3]: http://seaborn.pydata.org/generated/seaborn.heatmap.html \"heatmap() API\""
   ]
  },
  {
   "cell_type": "code",
   "execution_count": 19,
   "metadata": {
    "collapsed": false
   },
   "outputs": [],
   "source": [
    "tt_vs_dd = pd.crosstab(index=train.TripType, \n",
    "                       columns=train.DepDesc, \n",
    "                       normalize='index')"
   ]
  },
  {
   "cell_type": "code",
   "execution_count": 20,
   "metadata": {
    "collapsed": false
   },
   "outputs": [
    {
     "data": {
      "text/plain": [
       "<matplotlib.axes._subplots.AxesSubplot at 0x15f427f0>"
      ]
     },
     "execution_count": 20,
     "metadata": {},
     "output_type": "execute_result"
    },
    {
     "data": {
      "image/png": "[encoded data removed]",
      "text/plain": [
       "<matplotlib.figure.Figure at 0x150be710>"
      ]
     },
     "metadata": {},
     "output_type": "display_data"
    }
   ],
   "source": [
    "fig, ax = plt.subplots(figsize=(13, 9))\n",
    "sns.heatmap(ax=ax, data=tt_vs_dd, \n",
    "            linecolor='lightgrey', linewidths=.1)"
   ]
  },
  {
   "cell_type": "code",
   "execution_count": 21,
   "metadata": {
    "collapsed": false
   },
   "outputs": [],
   "source": [
    "tt_vs_dd = pd.crosstab(index=train.TripType, \n",
    "                       columns=train.DepDesc, \n",
    "                       normalize='columns')"
   ]
  },
  {
   "cell_type": "code",
   "execution_count": 22,
   "metadata": {
    "collapsed": false
   },
   "outputs": [
    {
     "data": {
      "text/plain": [
       "<matplotlib.axes._subplots.AxesSubplot at 0x171d7fd0>"
      ]
     },
     "execution_count": 22,
     "metadata": {},
     "output_type": "execute_result"
    },
    {
     "data": {
      "image/png": "[encoded data removed]",
      "text/plain": [
       "<matplotlib.figure.Figure at 0x170da898>"
      ]
     },
     "metadata": {},
     "output_type": "display_data"
    }
   ],
   "source": [
    "fig, ax = plt.subplots(figsize=(13, 9))\n",
    "sns.heatmap(ax=ax, data=tt_vs_dd, \n",
    "            linecolor='lightgrey', linewidths=.1)"
   ]
  },
  {
   "cell_type": "markdown",
   "metadata": {
    "collapsed": true
   },
   "source": [
    "#### #items frequency"
   ]
  },
  {
   "cell_type": "markdown",
   "metadata": {},
   "source": [
    "We already saw that the number of items in the cart can vary a lot. In this section we see what are the most common cart sizes and what is their general distribution."
   ]
  },
  {
   "cell_type": "code",
   "execution_count": 23,
   "metadata": {
    "collapsed": false
   },
   "outputs": [
    {
     "data": {
      "text/plain": [
       "<matplotlib.axes._subplots.AxesSubplot at 0x1722f4a8>"
      ]
     },
     "execution_count": 23,
     "metadata": {},
     "output_type": "execute_result"
    },
    {
     "data": {
      "image/png": "[encoded data removed]",
      "text/plain": [
       "<matplotlib.figure.Figure at 0x1707ee80>"
      ]
     },
     "metadata": {},
     "output_type": "display_data"
    }
   ],
   "source": [
    "n_items_freq = train_grp['ScanCount'].sum().value_counts()[:20]\n",
    "n_items_freq.plot(kind='bar', figsize=(12, 4), \n",
    "                  fontsize=16, title='Items per visit')"
   ]
  },
  {
   "cell_type": "code",
   "execution_count": 24,
   "metadata": {
    "collapsed": false
   },
   "outputs": [
    {
     "data": {
      "text/plain": [
       "<matplotlib.axes._subplots.AxesSubplot at 0x1707efd0>"
      ]
     },
     "execution_count": 24,
     "metadata": {},
     "output_type": "execute_result"
    },
    {
     "data": {
      "image/png": "[encoded data removed]",
      "text/plain": [
       "<matplotlib.figure.Figure at 0x17412f60>"
      ]
     },
     "metadata": {},
     "output_type": "display_data"
    }
   ],
   "source": [
    "cart_sizes = train_grp['ScanCount'].sum()\n",
    "cart_sizes.plot(kind='hist', bins=100)\n",
    "# Try zoom-in with xlim=(-50, 150), ylim=(0, 1000)"
   ]
  },
  {
   "cell_type": "code",
   "execution_count": 25,
   "metadata": {
    "collapsed": false
   },
   "outputs": [
    {
     "name": "stdout",
     "output_type": "stream",
     "text": [
      "-52 311\n"
     ]
    }
   ],
   "source": [
    "print cart_sizes.min(), cart_sizes.max()"
   ]
  },
  {
   "cell_type": "markdown",
   "metadata": {},
   "source": [
    "####  TripType vs. #items"
   ]
  },
  {
   "cell_type": "markdown",
   "metadata": {},
   "source": [
    "We want to see whether there is any relation between the _TripType_ and the number of items purchased. Since this is a relation between to aggregative features of a visit we start the inspection by applying the proper aggregations per visit."
   ]
  },
  {
   "cell_type": "code",
   "execution_count": 26,
   "metadata": {
    "collapsed": false
   },
   "outputs": [
    {
     "data": {
      "text/html": [
       "<div>\n",
       "<table border=\"1\" class=\"dataframe\">\n",
       "  <thead>\n",
       "    <tr style=\"text-align: right;\">\n",
       "      <th></th>\n",
       "      <th>TripType</th>\n",
       "      <th>ScanCount</th>\n",
       "    </tr>\n",
       "    <tr>\n",
       "      <th>Visit</th>\n",
       "      <th></th>\n",
       "      <th></th>\n",
       "    </tr>\n",
       "  </thead>\n",
       "  <tbody>\n",
       "    <tr>\n",
       "      <th>5</th>\n",
       "      <td>999</td>\n",
       "      <td>-1</td>\n",
       "    </tr>\n",
       "    <tr>\n",
       "      <th>7</th>\n",
       "      <td>30</td>\n",
       "      <td>2</td>\n",
       "    </tr>\n",
       "    <tr>\n",
       "      <th>8</th>\n",
       "      <td>26</td>\n",
       "      <td>28</td>\n",
       "    </tr>\n",
       "    <tr>\n",
       "      <th>9</th>\n",
       "      <td>8</td>\n",
       "      <td>3</td>\n",
       "    </tr>\n",
       "    <tr>\n",
       "      <th>10</th>\n",
       "      <td>8</td>\n",
       "      <td>3</td>\n",
       "    </tr>\n",
       "  </tbody>\n",
       "</table>\n",
       "</div>"
      ],
      "text/plain": [
       "       TripType  ScanCount\n",
       "Visit                     \n",
       "5           999         -1\n",
       "7            30          2\n",
       "8            26         28\n",
       "9             8          3\n",
       "10            8          3"
      ]
     },
     "execution_count": 26,
     "metadata": {},
     "output_type": "execute_result"
    }
   ],
   "source": [
    "tt_vs_n_items = train_grp.agg({'TripType': min,\n",
    "                               'ScanCount': sum})\n",
    "tt_vs_n_items.head()"
   ]
  },
  {
   "cell_type": "code",
   "execution_count": 27,
   "metadata": {
    "collapsed": false
   },
   "outputs": [
    {
     "data": {
      "text/plain": [
       "<matplotlib.axes._subplots.AxesSubplot at 0x149168d0>"
      ]
     },
     "execution_count": 27,
     "metadata": {},
     "output_type": "execute_result"
    },
    {
     "data": {
      "image/png": "[encoded data removed]",
      "text/plain": [
       "<matplotlib.figure.Figure at 0x156bd9b0>"
      ]
     },
     "metadata": {},
     "output_type": "display_data"
    }
   ],
   "source": [
    "ct_tt_vs_n_items = pd.crosstab(index=tt_vs_n_items.TripType, \n",
    "                               columns=tt_vs_n_items.ScanCount, \n",
    "                               normalize='index')\n",
    "fig, ax = plt.subplots(figsize=(13, 9))\n",
    "sns.heatmap(ax=ax, data=ct_tt_vs_n_items, \n",
    "            linecolor='lightgrey', \n",
    "            linewidths=.1)"
   ]
  },
  {
   "cell_type": "code",
   "execution_count": 28,
   "metadata": {
    "collapsed": false
   },
   "outputs": [
    {
     "data": {
      "text/plain": [
       "<matplotlib.axes._subplots.AxesSubplot at 0xb91e198>"
      ]
     },
     "execution_count": 28,
     "metadata": {},
     "output_type": "execute_result"
    },
    {
     "data": {
      "image/png": "[encoded data removed]",
      "text/plain": [
       "<matplotlib.figure.Figure at 0x1766fe10>"
      ]
     },
     "metadata": {},
     "output_type": "display_data"
    }
   ],
   "source": [
    "ct_tt_vs_n_items = pd.crosstab(index=tt_vs_n_items.TripType, \n",
    "                               columns=tt_vs_n_items.ScanCount, \n",
    "                               normalize='columns')\n",
    "fig, ax = plt.subplots(figsize=(13, 9))\n",
    "sns.heatmap(ax=ax, data=ct_tt_vs_n_items, \n",
    "            linecolor='lightgrey', \n",
    "            linewidths=.1)"
   ]
  },
  {
   "cell_type": "markdown",
   "metadata": {},
   "source": [
    "> **STATUS:** Until now we made no changes in the data, but only examined it."
   ]
  },
  {
   "cell_type": "markdown",
   "metadata": {},
   "source": [
    "## Cleaning the data"
   ]
  },
  {
   "cell_type": "markdown",
   "metadata": {},
   "source": [
    "### Missing values"
   ]
  },
  {
   "cell_type": "markdown",
   "metadata": {},
   "source": [
    "The _info()_ method showed that some data is missing. Let's see where is the missing data and how does it look."
   ]
  },
  {
   "cell_type": "code",
   "execution_count": 29,
   "metadata": {
    "collapsed": false
   },
   "outputs": [
    {
     "data": {
      "text/plain": [
       "TripType        0\n",
       "Weekday         0\n",
       "UPC          4129\n",
       "ScanCount       0\n",
       "DepDesc      1361\n",
       "Fineline     4129\n",
       "dtype: int64"
      ]
     },
     "execution_count": 29,
     "metadata": {},
     "output_type": "execute_result"
    }
   ],
   "source": [
    "train.isnull().sum()"
   ]
  },
  {
   "cell_type": "code",
   "execution_count": 30,
   "metadata": {
    "collapsed": false
   },
   "outputs": [
    {
     "data": {
      "text/html": [
       "<div>\n",
       "<table border=\"1\" class=\"dataframe\">\n",
       "  <thead>\n",
       "    <tr style=\"text-align: right;\">\n",
       "      <th></th>\n",
       "      <th>TripType</th>\n",
       "      <th>Weekday</th>\n",
       "      <th>UPC</th>\n",
       "      <th>ScanCount</th>\n",
       "      <th>DepDesc</th>\n",
       "      <th>Fineline</th>\n",
       "    </tr>\n",
       "    <tr>\n",
       "      <th>Visit</th>\n",
       "      <th></th>\n",
       "      <th></th>\n",
       "      <th></th>\n",
       "      <th></th>\n",
       "      <th></th>\n",
       "      <th></th>\n",
       "    </tr>\n",
       "  </thead>\n",
       "  <tbody>\n",
       "    <tr>\n",
       "      <th>8</th>\n",
       "      <td>26</td>\n",
       "      <td>Friday</td>\n",
       "      <td>NaN</td>\n",
       "      <td>1</td>\n",
       "      <td>NaN</td>\n",
       "      <td>NaN</td>\n",
       "    </tr>\n",
       "    <tr>\n",
       "      <th>259</th>\n",
       "      <td>27</td>\n",
       "      <td>Friday</td>\n",
       "      <td>NaN</td>\n",
       "      <td>3</td>\n",
       "      <td>NaN</td>\n",
       "      <td>NaN</td>\n",
       "    </tr>\n",
       "    <tr>\n",
       "      <th>259</th>\n",
       "      <td>27</td>\n",
       "      <td>Friday</td>\n",
       "      <td>NaN</td>\n",
       "      <td>1</td>\n",
       "      <td>NaN</td>\n",
       "      <td>NaN</td>\n",
       "    </tr>\n",
       "    <tr>\n",
       "      <th>409</th>\n",
       "      <td>999</td>\n",
       "      <td>Friday</td>\n",
       "      <td>NaN</td>\n",
       "      <td>-1</td>\n",
       "      <td>NaN</td>\n",
       "      <td>NaN</td>\n",
       "    </tr>\n",
       "    <tr>\n",
       "      <th>479</th>\n",
       "      <td>39</td>\n",
       "      <td>Friday</td>\n",
       "      <td>NaN</td>\n",
       "      <td>1</td>\n",
       "      <td>NaN</td>\n",
       "      <td>NaN</td>\n",
       "    </tr>\n",
       "  </tbody>\n",
       "</table>\n",
       "</div>"
      ],
      "text/plain": [
       "       TripType Weekday  UPC  ScanCount DepDesc  Fineline\n",
       "Visit                                                    \n",
       "8            26  Friday  NaN          1     NaN       NaN\n",
       "259          27  Friday  NaN          3     NaN       NaN\n",
       "259          27  Friday  NaN          1     NaN       NaN\n",
       "409         999  Friday  NaN         -1     NaN       NaN\n",
       "479          39  Friday  NaN          1     NaN       NaN"
      ]
     },
     "execution_count": 30,
     "metadata": {},
     "output_type": "execute_result"
    }
   ],
   "source": [
    "train.ix[train.UPC.isnull()].head()"
   ]
  },
  {
   "cell_type": "markdown",
   "metadata": {},
   "source": [
    "We see that the NAs are not very common, and also that there is a significant overlap between the missing data entries in the different columns. Therefore we decide to drop the records that contain missing data, and we do it with the [_dropna()_][dropna] method.\n",
    "\n",
    "[dropna]: http://pandas.pydata.org/pandas-docs/stable/generated/pandas.DataFrame.dropna.html#pandas.DataFrame.dropna"
   ]
  },
  {
   "cell_type": "code",
   "execution_count": 31,
   "metadata": {
    "collapsed": false
   },
   "outputs": [],
   "source": [
    "train.dropna(axis=0, how='any', inplace=True)"
   ]
  },
  {
   "cell_type": "code",
   "execution_count": 32,
   "metadata": {
    "collapsed": false
   },
   "outputs": [
    {
     "name": "stdout",
     "output_type": "stream",
     "text": [
      "94247 642925\n"
     ]
    }
   ],
   "source": [
    "print train.index.nunique(), len(train)"
   ]
  },
  {
   "cell_type": "markdown",
   "metadata": {
    "collapsed": true
   },
   "source": [
    "After the removal of the missing data, we recreate the GroupBy object."
   ]
  },
  {
   "cell_type": "code",
   "execution_count": 33,
   "metadata": {
    "collapsed": false
   },
   "outputs": [],
   "source": [
    "train_grp = train.groupby(level='Visit')"
   ]
  },
  {
   "cell_type": "markdown",
   "metadata": {
    "collapsed": true
   },
   "source": [
    "> **STATUS:** There are no NaNs in the data."
   ]
  },
  {
   "cell_type": "markdown",
   "metadata": {},
   "source": [
    "### Duplicated UPCs and returned items"
   ]
  },
  {
   "cell_type": "markdown",
   "metadata": {},
   "source": [
    "Duplicated UPCs and returned items may correspond to several scenarios:\n",
    "\n",
    "* **Regular duplications** indicate normal cashier work, in which items with the same UPC are not necessarily processed together.\n",
    "* **Unique returns** (returns with a unique UPC within a visit) may indicate **planned** trip with an item to be returned.\n",
    "* **Non-unique returns** may indicate a human \"error\" (or price check) at the POS (Point of sale)."
   ]
  },
  {
   "cell_type": "markdown",
   "metadata": {},
   "source": [
    "We now see if there are any _regular_ duplications."
   ]
  },
  {
   "cell_type": "code",
   "execution_count": 34,
   "metadata": {
    "collapsed": false
   },
   "outputs": [],
   "source": [
    "def is_upc_duplicate(visit):\n",
    "    if -1 in visit.ScanCount.values:\n",
    "        return False  # returns --> irrelevant duplicate\n",
    "    else:\n",
    "        return (visit.UPC.value_counts() > 1).any()"
   ]
  },
  {
   "cell_type": "code",
   "execution_count": 35,
   "metadata": {
    "collapsed": false
   },
   "outputs": [
    {
     "name": "stdout",
     "output_type": "stream",
     "text": [
      "True\n"
     ]
    }
   ],
   "source": [
    "mini_train = train.ix[train.index.unique()[:100], :]\n",
    "grouped = mini_train\\\n",
    "    .groupby(level='Visit')\\\n",
    "    .apply(is_upc_duplicate)\n",
    "print grouped.any()"
   ]
  },
  {
   "cell_type": "markdown",
   "metadata": {},
   "source": [
    "The _True_ above proves that our concerns were correct. We can find an example."
   ]
  },
  {
   "cell_type": "code",
   "execution_count": 36,
   "metadata": {
    "collapsed": false
   },
   "outputs": [
    {
     "data": {
      "text/plain": [
       "Visit\n",
       "19     True\n",
       "61     True\n",
       "86     True\n",
       "140    True\n",
       "dtype: bool"
      ]
     },
     "execution_count": 36,
     "metadata": {},
     "output_type": "execute_result"
    }
   ],
   "source": [
    "grouped[grouped]"
   ]
  },
  {
   "cell_type": "code",
   "execution_count": 37,
   "metadata": {
    "collapsed": false
   },
   "outputs": [
    {
     "data": {
      "text/html": [
       "<div>\n",
       "<table border=\"1\" class=\"dataframe\">\n",
       "  <thead>\n",
       "    <tr style=\"text-align: right;\">\n",
       "      <th></th>\n",
       "      <th>TripType</th>\n",
       "      <th>Weekday</th>\n",
       "      <th>UPC</th>\n",
       "      <th>ScanCount</th>\n",
       "      <th>DepDesc</th>\n",
       "      <th>Fineline</th>\n",
       "    </tr>\n",
       "    <tr>\n",
       "      <th>Visit</th>\n",
       "      <th></th>\n",
       "      <th></th>\n",
       "      <th></th>\n",
       "      <th></th>\n",
       "      <th></th>\n",
       "      <th></th>\n",
       "    </tr>\n",
       "  </thead>\n",
       "  <tbody>\n",
       "    <tr>\n",
       "      <th>19</th>\n",
       "      <td>42</td>\n",
       "      <td>Friday</td>\n",
       "      <td>7.675336e+09</td>\n",
       "      <td>1</td>\n",
       "      <td>IMPULSE MERCHANDISE</td>\n",
       "      <td>8904.0</td>\n",
       "    </tr>\n",
       "    <tr>\n",
       "      <th>19</th>\n",
       "      <td>42</td>\n",
       "      <td>Friday</td>\n",
       "      <td>6.115665e+10</td>\n",
       "      <td>1</td>\n",
       "      <td>JEWELRY AND SUNGLASSES</td>\n",
       "      <td>556.0</td>\n",
       "    </tr>\n",
       "    <tr>\n",
       "      <th>19</th>\n",
       "      <td>42</td>\n",
       "      <td>Friday</td>\n",
       "      <td>8.874396e+10</td>\n",
       "      <td>1</td>\n",
       "      <td>MENS WEAR</td>\n",
       "      <td>144.0</td>\n",
       "    </tr>\n",
       "    <tr>\n",
       "      <th>19</th>\n",
       "      <td>42</td>\n",
       "      <td>Friday</td>\n",
       "      <td>6.926568e+11</td>\n",
       "      <td>1</td>\n",
       "      <td>FABRICS AND CRAFTS</td>\n",
       "      <td>397.0</td>\n",
       "    </tr>\n",
       "    <tr>\n",
       "      <th>19</th>\n",
       "      <td>42</td>\n",
       "      <td>Friday</td>\n",
       "      <td>7.675336e+09</td>\n",
       "      <td>1</td>\n",
       "      <td>IMPULSE MERCHANDISE</td>\n",
       "      <td>8904.0</td>\n",
       "    </tr>\n",
       "    <tr>\n",
       "      <th>19</th>\n",
       "      <td>42</td>\n",
       "      <td>Friday</td>\n",
       "      <td>6.953344e+11</td>\n",
       "      <td>1</td>\n",
       "      <td>ACCESSORIES</td>\n",
       "      <td>122.0</td>\n",
       "    </tr>\n",
       "    <tr>\n",
       "      <th>19</th>\n",
       "      <td>42</td>\n",
       "      <td>Friday</td>\n",
       "      <td>8.853064e+10</td>\n",
       "      <td>1</td>\n",
       "      <td>MENS WEAR</td>\n",
       "      <td>5201.0</td>\n",
       "    </tr>\n",
       "    <tr>\n",
       "      <th>19</th>\n",
       "      <td>42</td>\n",
       "      <td>Friday</td>\n",
       "      <td>8.830961e+10</td>\n",
       "      <td>1</td>\n",
       "      <td>MENS WEAR</td>\n",
       "      <td>5661.0</td>\n",
       "    </tr>\n",
       "    <tr>\n",
       "      <th>19</th>\n",
       "      <td>42</td>\n",
       "      <td>Friday</td>\n",
       "      <td>3.181070e+09</td>\n",
       "      <td>1</td>\n",
       "      <td>HOME MANAGEMENT</td>\n",
       "      <td>8124.0</td>\n",
       "    </tr>\n",
       "  </tbody>\n",
       "</table>\n",
       "</div>"
      ],
      "text/plain": [
       "       TripType Weekday           UPC  ScanCount                 DepDesc  Fineline\n",
       "Visit                                                                             \n",
       "19           42  Friday  7.675336e+09          1     IMPULSE MERCHANDISE    8904.0\n",
       "19           42  Friday  6.115665e+10          1  JEWELRY AND SUNGLASSES     556.0\n",
       "19           42  Friday  8.874396e+10          1               MENS WEAR     144.0\n",
       "19           42  Friday  6.926568e+11          1      FABRICS AND CRAFTS     397.0\n",
       "19           42  Friday  7.675336e+09          1     IMPULSE MERCHANDISE    8904.0\n",
       "19           42  Friday  6.953344e+11          1             ACCESSORIES     122.0\n",
       "19           42  Friday  8.853064e+10          1               MENS WEAR    5201.0\n",
       "19           42  Friday  8.830961e+10          1               MENS WEAR    5661.0\n",
       "19           42  Friday  3.181070e+09          1         HOME MANAGEMENT    8124.0"
      ]
     },
     "execution_count": 37,
     "metadata": {},
     "output_type": "execute_result"
    }
   ],
   "source": [
    "train.ix[19]"
   ]
  },
  {
   "cell_type": "markdown",
   "metadata": {},
   "source": [
    "For illustration purposes we can see that 132 is an example of a visit with non-unique returns, but not only, while 333 and 1579 are examples of visits made of non-unique returns only."
   ]
  },
  {
   "cell_type": "code",
   "execution_count": 38,
   "metadata": {
    "collapsed": false
   },
   "outputs": [
    {
     "data": {
      "text/html": [
       "<div>\n",
       "<table border=\"1\" class=\"dataframe\">\n",
       "  <thead>\n",
       "    <tr style=\"text-align: right;\">\n",
       "      <th></th>\n",
       "      <th>TripType</th>\n",
       "      <th>Weekday</th>\n",
       "      <th>UPC</th>\n",
       "      <th>ScanCount</th>\n",
       "      <th>DepDesc</th>\n",
       "      <th>Fineline</th>\n",
       "    </tr>\n",
       "    <tr>\n",
       "      <th>Visit</th>\n",
       "      <th></th>\n",
       "      <th></th>\n",
       "      <th></th>\n",
       "      <th></th>\n",
       "      <th></th>\n",
       "      <th></th>\n",
       "    </tr>\n",
       "  </thead>\n",
       "  <tbody>\n",
       "    <tr>\n",
       "      <th>132</th>\n",
       "      <td>9</td>\n",
       "      <td>Friday</td>\n",
       "      <td>6.700886e+09</td>\n",
       "      <td>1</td>\n",
       "      <td>CELEBRATION</td>\n",
       "      <td>6.0</td>\n",
       "    </tr>\n",
       "    <tr>\n",
       "      <th>132</th>\n",
       "      <td>9</td>\n",
       "      <td>Friday</td>\n",
       "      <td>6.454161e+10</td>\n",
       "      <td>-1</td>\n",
       "      <td>CELEBRATION</td>\n",
       "      <td>6.0</td>\n",
       "    </tr>\n",
       "    <tr>\n",
       "      <th>132</th>\n",
       "      <td>9</td>\n",
       "      <td>Friday</td>\n",
       "      <td>6.454161e+10</td>\n",
       "      <td>2</td>\n",
       "      <td>CELEBRATION</td>\n",
       "      <td>6.0</td>\n",
       "    </tr>\n",
       "    <tr>\n",
       "      <th>132</th>\n",
       "      <td>9</td>\n",
       "      <td>Friday</td>\n",
       "      <td>6.700886e+09</td>\n",
       "      <td>-1</td>\n",
       "      <td>CELEBRATION</td>\n",
       "      <td>6.0</td>\n",
       "    </tr>\n",
       "  </tbody>\n",
       "</table>\n",
       "</div>"
      ],
      "text/plain": [
       "       TripType Weekday           UPC  ScanCount      DepDesc  Fineline\n",
       "Visit                                                                  \n",
       "132           9  Friday  6.700886e+09          1  CELEBRATION       6.0\n",
       "132           9  Friday  6.454161e+10         -1  CELEBRATION       6.0\n",
       "132           9  Friday  6.454161e+10          2  CELEBRATION       6.0\n",
       "132           9  Friday  6.700886e+09         -1  CELEBRATION       6.0"
      ]
     },
     "execution_count": 38,
     "metadata": {},
     "output_type": "execute_result"
    }
   ],
   "source": [
    "train.ix[132]"
   ]
  },
  {
   "cell_type": "code",
   "execution_count": 39,
   "metadata": {
    "collapsed": false
   },
   "outputs": [
    {
     "data": {
      "text/html": [
       "<div>\n",
       "<table border=\"1\" class=\"dataframe\">\n",
       "  <thead>\n",
       "    <tr style=\"text-align: right;\">\n",
       "      <th></th>\n",
       "      <th>TripType</th>\n",
       "      <th>Weekday</th>\n",
       "      <th>UPC</th>\n",
       "      <th>ScanCount</th>\n",
       "      <th>DepDesc</th>\n",
       "      <th>Fineline</th>\n",
       "    </tr>\n",
       "    <tr>\n",
       "      <th>Visit</th>\n",
       "      <th></th>\n",
       "      <th></th>\n",
       "      <th></th>\n",
       "      <th></th>\n",
       "      <th></th>\n",
       "      <th></th>\n",
       "    </tr>\n",
       "  </thead>\n",
       "  <tbody>\n",
       "    <tr>\n",
       "      <th>333</th>\n",
       "      <td>999</td>\n",
       "      <td>Friday</td>\n",
       "      <td>6.565145e+10</td>\n",
       "      <td>1</td>\n",
       "      <td>JEWELRY AND SUNGLASSES</td>\n",
       "      <td>6812.0</td>\n",
       "    </tr>\n",
       "    <tr>\n",
       "      <th>333</th>\n",
       "      <td>999</td>\n",
       "      <td>Friday</td>\n",
       "      <td>6.565145e+10</td>\n",
       "      <td>-1</td>\n",
       "      <td>JEWELRY AND SUNGLASSES</td>\n",
       "      <td>6812.0</td>\n",
       "    </tr>\n",
       "  </tbody>\n",
       "</table>\n",
       "</div>"
      ],
      "text/plain": [
       "       TripType Weekday           UPC  ScanCount                 DepDesc  Fineline\n",
       "Visit                                                                             \n",
       "333         999  Friday  6.565145e+10          1  JEWELRY AND SUNGLASSES    6812.0\n",
       "333         999  Friday  6.565145e+10         -1  JEWELRY AND SUNGLASSES    6812.0"
      ]
     },
     "execution_count": 39,
     "metadata": {},
     "output_type": "execute_result"
    }
   ],
   "source": [
    "train.ix[333]   # See also 1579"
   ]
  },
  {
   "cell_type": "markdown",
   "metadata": {},
   "source": [
    "To eliminate regular duplications we aggregate by the _ScanCount_ of such items. This aggregation is applied to the _ScanCount_ column only, while leaving the other columns unchaged. This can be done by indexing manipulation."
   ]
  },
  {
   "cell_type": "code",
   "execution_count": 40,
   "metadata": {
    "collapsed": false
   },
   "outputs": [
    {
     "data": {
      "text/plain": [
       "Visit  UPC           Weekday  DepDesc                Fineline  TripType\n",
       "5      6.811315e+10  Friday   FINANCIAL SERVICES     1000.0    999        -1\n",
       "7      7.410811e+09  Friday   PERSONAL CARE          4504.0    30          1\n",
       "       6.053882e+10  Friday   SHOES                  8931.0    30          1\n",
       "8      2.006614e+09  Friday   PAINT AND ACCESSORIES  1017.0    26          1\n",
       "                                                               26          2\n",
       "Name: ScanCount, dtype: int64"
      ]
     },
     "execution_count": 40,
     "metadata": {},
     "output_type": "execute_result"
    }
   ],
   "source": [
    "temp = train.groupby([train.index, 'UPC', 'Weekday', 'DepDesc',\n",
    "                      'Fineline', 'TripType'])['ScanCount'].sum()\n",
    "temp.head()"
   ]
  },
  {
   "cell_type": "code",
   "execution_count": 41,
   "metadata": {
    "collapsed": false
   },
   "outputs": [
    {
     "data": {
      "text/html": [
       "<div>\n",
       "<table border=\"1\" class=\"dataframe\">\n",
       "  <thead>\n",
       "    <tr style=\"text-align: right;\">\n",
       "      <th></th>\n",
       "      <th>UPC</th>\n",
       "      <th>Weekday</th>\n",
       "      <th>DepDesc</th>\n",
       "      <th>Fineline</th>\n",
       "      <th>TripType</th>\n",
       "      <th>ScanCount</th>\n",
       "    </tr>\n",
       "    <tr>\n",
       "      <th>Visit</th>\n",
       "      <th></th>\n",
       "      <th></th>\n",
       "      <th></th>\n",
       "      <th></th>\n",
       "      <th></th>\n",
       "      <th></th>\n",
       "    </tr>\n",
       "  </thead>\n",
       "  <tbody>\n",
       "    <tr>\n",
       "      <th>5</th>\n",
       "      <td>6.811315e+10</td>\n",
       "      <td>Friday</td>\n",
       "      <td>FINANCIAL SERVICES</td>\n",
       "      <td>1000.0</td>\n",
       "      <td>999</td>\n",
       "      <td>-1</td>\n",
       "    </tr>\n",
       "    <tr>\n",
       "      <th>7</th>\n",
       "      <td>7.410811e+09</td>\n",
       "      <td>Friday</td>\n",
       "      <td>PERSONAL CARE</td>\n",
       "      <td>4504.0</td>\n",
       "      <td>30</td>\n",
       "      <td>1</td>\n",
       "    </tr>\n",
       "    <tr>\n",
       "      <th>7</th>\n",
       "      <td>6.053882e+10</td>\n",
       "      <td>Friday</td>\n",
       "      <td>SHOES</td>\n",
       "      <td>8931.0</td>\n",
       "      <td>30</td>\n",
       "      <td>1</td>\n",
       "    </tr>\n",
       "    <tr>\n",
       "      <th>8</th>\n",
       "      <td>2.006614e+09</td>\n",
       "      <td>Friday</td>\n",
       "      <td>PAINT AND ACCESSORIES</td>\n",
       "      <td>1017.0</td>\n",
       "      <td>26</td>\n",
       "      <td>1</td>\n",
       "    </tr>\n",
       "    <tr>\n",
       "      <th>8</th>\n",
       "      <td>2.006614e+09</td>\n",
       "      <td>Friday</td>\n",
       "      <td>PAINT AND ACCESSORIES</td>\n",
       "      <td>1017.0</td>\n",
       "      <td>26</td>\n",
       "      <td>2</td>\n",
       "    </tr>\n",
       "  </tbody>\n",
       "</table>\n",
       "</div>"
      ],
      "text/plain": [
       "                UPC Weekday                DepDesc  Fineline  TripType  ScanCount\n",
       "Visit                                                                            \n",
       "5      6.811315e+10  Friday     FINANCIAL SERVICES    1000.0       999         -1\n",
       "7      7.410811e+09  Friday          PERSONAL CARE    4504.0        30          1\n",
       "7      6.053882e+10  Friday                  SHOES    8931.0        30          1\n",
       "8      2.006614e+09  Friday  PAINT AND ACCESSORIES    1017.0        26          1\n",
       "8      2.006614e+09  Friday  PAINT AND ACCESSORIES    1017.0        26          2"
      ]
     },
     "execution_count": 41,
     "metadata": {},
     "output_type": "execute_result"
    }
   ],
   "source": [
    "train = temp.reset_index(['UPC', 'Weekday', 'DepDesc',\n",
    "                          'Fineline', 'TripType'])\n",
    "train.head()"
   ]
  },
  {
   "cell_type": "markdown",
   "metadata": {},
   "source": [
    "We note that this aggregation also created records with _ScanCount = 0_, which reflect items that were scanned and cancelled by the cashier (e.g. check the price, regret, mistake, etc.). For illustration purposes we can look again at visits 132, 333 and 1579 to see how the aggregation influenced them."
   ]
  },
  {
   "cell_type": "code",
   "execution_count": 42,
   "metadata": {
    "collapsed": false
   },
   "outputs": [
    {
     "data": {
      "text/html": [
       "<div>\n",
       "<table border=\"1\" class=\"dataframe\">\n",
       "  <thead>\n",
       "    <tr style=\"text-align: right;\">\n",
       "      <th></th>\n",
       "      <th>UPC</th>\n",
       "      <th>Weekday</th>\n",
       "      <th>DepDesc</th>\n",
       "      <th>Fineline</th>\n",
       "      <th>TripType</th>\n",
       "      <th>ScanCount</th>\n",
       "    </tr>\n",
       "    <tr>\n",
       "      <th>Visit</th>\n",
       "      <th></th>\n",
       "      <th></th>\n",
       "      <th></th>\n",
       "      <th></th>\n",
       "      <th></th>\n",
       "      <th></th>\n",
       "    </tr>\n",
       "  </thead>\n",
       "  <tbody>\n",
       "    <tr>\n",
       "      <th>132</th>\n",
       "      <td>6.700886e+09</td>\n",
       "      <td>Friday</td>\n",
       "      <td>CELEBRATION</td>\n",
       "      <td>6.0</td>\n",
       "      <td>9</td>\n",
       "      <td>0</td>\n",
       "    </tr>\n",
       "    <tr>\n",
       "      <th>132</th>\n",
       "      <td>6.454161e+10</td>\n",
       "      <td>Friday</td>\n",
       "      <td>CELEBRATION</td>\n",
       "      <td>6.0</td>\n",
       "      <td>9</td>\n",
       "      <td>1</td>\n",
       "    </tr>\n",
       "  </tbody>\n",
       "</table>\n",
       "</div>"
      ],
      "text/plain": [
       "                UPC Weekday      DepDesc  Fineline  TripType  ScanCount\n",
       "Visit                                                                  \n",
       "132    6.700886e+09  Friday  CELEBRATION       6.0         9          0\n",
       "132    6.454161e+10  Friday  CELEBRATION       6.0         9          1"
      ]
     },
     "execution_count": 42,
     "metadata": {},
     "output_type": "execute_result"
    }
   ],
   "source": [
    "train.ix[132]"
   ]
  },
  {
   "cell_type": "code",
   "execution_count": 43,
   "metadata": {
    "collapsed": false
   },
   "outputs": [
    {
     "data": {
      "text/plain": [
       "UPC                     6.56514e+10\n",
       "Weekday                      Friday\n",
       "DepDesc      JEWELRY AND SUNGLASSES\n",
       "Fineline                       6812\n",
       "TripType                        999\n",
       "ScanCount                         0\n",
       "Name: 333, dtype: object"
      ]
     },
     "execution_count": 43,
     "metadata": {},
     "output_type": "execute_result"
    }
   ],
   "source": [
    "train.ix[333]"
   ]
  },
  {
   "cell_type": "code",
   "execution_count": 44,
   "metadata": {
    "collapsed": false
   },
   "outputs": [
    {
     "data": {
      "text/html": [
       "<div>\n",
       "<table border=\"1\" class=\"dataframe\">\n",
       "  <thead>\n",
       "    <tr style=\"text-align: right;\">\n",
       "      <th></th>\n",
       "      <th>UPC</th>\n",
       "      <th>Weekday</th>\n",
       "      <th>DepDesc</th>\n",
       "      <th>Fineline</th>\n",
       "      <th>TripType</th>\n",
       "      <th>ScanCount</th>\n",
       "    </tr>\n",
       "    <tr>\n",
       "      <th>Visit</th>\n",
       "      <th></th>\n",
       "      <th></th>\n",
       "      <th></th>\n",
       "      <th></th>\n",
       "      <th></th>\n",
       "      <th></th>\n",
       "    </tr>\n",
       "  </thead>\n",
       "  <tbody>\n",
       "    <tr>\n",
       "      <th>1579</th>\n",
       "      <td>5.027695e+09</td>\n",
       "      <td>Friday</td>\n",
       "      <td>HOME DECOR</td>\n",
       "      <td>856.0</td>\n",
       "      <td>999</td>\n",
       "      <td>0</td>\n",
       "    </tr>\n",
       "    <tr>\n",
       "      <th>1579</th>\n",
       "      <td>8.280307e+09</td>\n",
       "      <td>Friday</td>\n",
       "      <td>HOME DECOR</td>\n",
       "      <td>856.0</td>\n",
       "      <td>999</td>\n",
       "      <td>0</td>\n",
       "    </tr>\n",
       "    <tr>\n",
       "      <th>1579</th>\n",
       "      <td>6.442257e+10</td>\n",
       "      <td>Friday</td>\n",
       "      <td>PHARMACY OTC</td>\n",
       "      <td>509.0</td>\n",
       "      <td>999</td>\n",
       "      <td>0</td>\n",
       "    </tr>\n",
       "  </tbody>\n",
       "</table>\n",
       "</div>"
      ],
      "text/plain": [
       "                UPC Weekday       DepDesc  Fineline  TripType  ScanCount\n",
       "Visit                                                                   \n",
       "1579   5.027695e+09  Friday    HOME DECOR     856.0       999          0\n",
       "1579   8.280307e+09  Friday    HOME DECOR     856.0       999          0\n",
       "1579   6.442257e+10  Friday  PHARMACY OTC     509.0       999          0"
      ]
     },
     "execution_count": 44,
     "metadata": {},
     "output_type": "execute_result"
    }
   ],
   "source": [
    "train.ix[1579]"
   ]
  },
  {
   "cell_type": "markdown",
   "metadata": {},
   "source": [
    "After combining duplicated items, we have fewer records, but the same number of visits. Anyway we recreate the GroupBy object."
   ]
  },
  {
   "cell_type": "code",
   "execution_count": 45,
   "metadata": {
    "collapsed": false
   },
   "outputs": [
    {
     "name": "stdout",
     "output_type": "stream",
     "text": [
      "94247 628483\n"
     ]
    }
   ],
   "source": [
    "print train.index.nunique(), len(train)"
   ]
  },
  {
   "cell_type": "code",
   "execution_count": 46,
   "metadata": {
    "collapsed": true
   },
   "outputs": [],
   "source": [
    "train_grp = train.groupby(level='Visit')"
   ]
  },
  {
   "cell_type": "markdown",
   "metadata": {},
   "source": [
    "We assume that visits which contain only _ScanCount_ of 0 carry no information and we omit them. For illustration purposes we first have a look on some of the visits we are filtering out."
   ]
  },
  {
   "cell_type": "code",
   "execution_count": 47,
   "metadata": {
    "collapsed": false
   },
   "outputs": [
    {
     "data": {
      "text/html": [
       "<div>\n",
       "<table border=\"1\" class=\"dataframe\">\n",
       "  <thead>\n",
       "    <tr style=\"text-align: right;\">\n",
       "      <th></th>\n",
       "      <th>UPC</th>\n",
       "      <th>Weekday</th>\n",
       "      <th>DepDesc</th>\n",
       "      <th>Fineline</th>\n",
       "      <th>TripType</th>\n",
       "      <th>ScanCount</th>\n",
       "    </tr>\n",
       "    <tr>\n",
       "      <th>Visit</th>\n",
       "      <th></th>\n",
       "      <th></th>\n",
       "      <th></th>\n",
       "      <th></th>\n",
       "      <th></th>\n",
       "      <th></th>\n",
       "    </tr>\n",
       "  </thead>\n",
       "  <tbody>\n",
       "    <tr>\n",
       "      <th>333</th>\n",
       "      <td>6.565145e+10</td>\n",
       "      <td>Friday</td>\n",
       "      <td>JEWELRY AND SUNGLASSES</td>\n",
       "      <td>6812.0</td>\n",
       "      <td>999</td>\n",
       "      <td>0</td>\n",
       "    </tr>\n",
       "    <tr>\n",
       "      <th>685</th>\n",
       "      <td>7.013201e+09</td>\n",
       "      <td>Friday</td>\n",
       "      <td>GROCERY DRY GOODS</td>\n",
       "      <td>2996.0</td>\n",
       "      <td>999</td>\n",
       "      <td>0</td>\n",
       "    </tr>\n",
       "    <tr>\n",
       "      <th>781</th>\n",
       "      <td>2.471911e+09</td>\n",
       "      <td>Friday</td>\n",
       "      <td>HORTICULTURE AND ACCESS</td>\n",
       "      <td>8294.0</td>\n",
       "      <td>999</td>\n",
       "      <td>0</td>\n",
       "    </tr>\n",
       "    <tr>\n",
       "      <th>1120</th>\n",
       "      <td>7.149518e+10</td>\n",
       "      <td>Friday</td>\n",
       "      <td>WIRELESS</td>\n",
       "      <td>1590.0</td>\n",
       "      <td>999</td>\n",
       "      <td>0</td>\n",
       "    </tr>\n",
       "    <tr>\n",
       "      <th>1460</th>\n",
       "      <td>2.471922e+09</td>\n",
       "      <td>Friday</td>\n",
       "      <td>HORTICULTURE AND ACCESS</td>\n",
       "      <td>8615.0</td>\n",
       "      <td>999</td>\n",
       "      <td>0</td>\n",
       "    </tr>\n",
       "    <tr>\n",
       "      <th>1579</th>\n",
       "      <td>5.027695e+09</td>\n",
       "      <td>Friday</td>\n",
       "      <td>HOME DECOR</td>\n",
       "      <td>856.0</td>\n",
       "      <td>999</td>\n",
       "      <td>0</td>\n",
       "    </tr>\n",
       "    <tr>\n",
       "      <th>1579</th>\n",
       "      <td>8.280307e+09</td>\n",
       "      <td>Friday</td>\n",
       "      <td>HOME DECOR</td>\n",
       "      <td>856.0</td>\n",
       "      <td>999</td>\n",
       "      <td>0</td>\n",
       "    </tr>\n",
       "    <tr>\n",
       "      <th>1579</th>\n",
       "      <td>6.442257e+10</td>\n",
       "      <td>Friday</td>\n",
       "      <td>PHARMACY OTC</td>\n",
       "      <td>509.0</td>\n",
       "      <td>999</td>\n",
       "      <td>0</td>\n",
       "    </tr>\n",
       "    <tr>\n",
       "      <th>1783</th>\n",
       "      <td>6.030842e+10</td>\n",
       "      <td>Friday</td>\n",
       "      <td>PERSONAL CARE</td>\n",
       "      <td>5300.0</td>\n",
       "      <td>999</td>\n",
       "      <td>0</td>\n",
       "    </tr>\n",
       "    <tr>\n",
       "      <th>1943</th>\n",
       "      <td>9.800008e+08</td>\n",
       "      <td>Friday</td>\n",
       "      <td>IMPULSE MERCHANDISE</td>\n",
       "      <td>145.0</td>\n",
       "      <td>999</td>\n",
       "      <td>0</td>\n",
       "    </tr>\n",
       "  </tbody>\n",
       "</table>\n",
       "</div>"
      ],
      "text/plain": [
       "                UPC Weekday                  DepDesc  Fineline  TripType  ScanCount\n",
       "Visit                                                                              \n",
       "333    6.565145e+10  Friday   JEWELRY AND SUNGLASSES    6812.0       999          0\n",
       "685    7.013201e+09  Friday        GROCERY DRY GOODS    2996.0       999          0\n",
       "781    2.471911e+09  Friday  HORTICULTURE AND ACCESS    8294.0       999          0\n",
       "1120   7.149518e+10  Friday                 WIRELESS    1590.0       999          0\n",
       "1460   2.471922e+09  Friday  HORTICULTURE AND ACCESS    8615.0       999          0\n",
       "1579   5.027695e+09  Friday               HOME DECOR     856.0       999          0\n",
       "1579   8.280307e+09  Friday               HOME DECOR     856.0       999          0\n",
       "1579   6.442257e+10  Friday             PHARMACY OTC     509.0       999          0\n",
       "1783   6.030842e+10  Friday            PERSONAL CARE    5300.0       999          0\n",
       "1943   9.800008e+08  Friday      IMPULSE MERCHANDISE     145.0       999          0"
      ]
     },
     "execution_count": 47,
     "metadata": {},
     "output_type": "execute_result"
    }
   ],
   "source": [
    "mini_train = train.ix[train.index.unique()[:1000], :]\n",
    "grouped = mini_train.groupby(level='Visit')\n",
    "sc_0_only = grouped.filter(lambda grp: (grp.ScanCount == 0).all())\n",
    "sc_0_only"
   ]
  },
  {
   "cell_type": "markdown",
   "metadata": {},
   "source": [
    "> **NOTE:** The _TripType_ of such trips is 999. We can call this kind of visits **cashier_check**, since we assume this is the origin of such visits. This will be important when we will build the classification model in the future. We can run the line _sc_\\__0_\\__only.TripType.value_\\__counts()_ for illustration of this fact."
   ]
  },
  {
   "cell_type": "markdown",
   "metadata": {},
   "source": [
    "And now the actual filtration..."
   ]
  },
  {
   "cell_type": "code",
   "execution_count": 48,
   "metadata": {
    "collapsed": false
   },
   "outputs": [],
   "source": [
    "train = train_grp.filter(lambda grp: (grp.ScanCount != 0).any())"
   ]
  },
  {
   "cell_type": "markdown",
   "metadata": {},
   "source": [
    "> **NOTE:** For some reason, _filter()_ is very slow..."
   ]
  },
  {
   "cell_type": "code",
   "execution_count": 49,
   "metadata": {
    "collapsed": false
   },
   "outputs": [
    {
     "name": "stdout",
     "output_type": "stream",
     "text": [
      "93154 626968\n"
     ]
    }
   ],
   "source": [
    "print train.index.nunique(), len(train)"
   ]
  },
  {
   "cell_type": "markdown",
   "metadata": {},
   "source": [
    "> **STATUS:** At this stage there are no NaNs, no duplicted UPCs and all returns are unique returns."
   ]
  },
  {
   "cell_type": "markdown",
   "metadata": {},
   "source": [
    "After the removal of the missing data, we recreate the GroupBy object."
   ]
  },
  {
   "cell_type": "code",
   "execution_count": 50,
   "metadata": {
    "collapsed": false
   },
   "outputs": [],
   "source": [
    "train_grp = train.groupby(level='Visit')"
   ]
  },
  {
   "cell_type": "markdown",
   "metadata": {},
   "source": [
    "#### _TripType = 999_"
   ]
  },
  {
   "cell_type": "markdown",
   "metadata": {},
   "source": [
    "We naturally believe that _TripType_ 999 has irregular structure, and therefore it is advised to understand its content. Moreover, even after filtering many of the visits with _TripType 999_, it is still representing, as illustrated below, nearly 8% of the visits. For this analysis we introduce the _train999_ data frame."
   ]
  },
  {
   "cell_type": "code",
   "execution_count": 51,
   "metadata": {
    "collapsed": false
   },
   "outputs": [
    {
     "data": {
      "text/plain": [
       "<matplotlib.axes._subplots.AxesSubplot at 0x10a28ef0>"
      ]
     },
     "execution_count": 51,
     "metadata": {},
     "output_type": "execute_result"
    },
    {
     "data": {
      "image/png": "[encoded data removed]",
      "text/plain": [
       "<matplotlib.figure.Figure at 0x17b2e940>"
      ]
     },
     "metadata": {},
     "output_type": "display_data"
    }
   ],
   "source": [
    "ttf = train_grp['TripType'].min().value_counts(normalize=True)\\\n",
    "    .sort_values(ascending=False)\n",
    "ttf.plot(kind='bar', figsize=(12, 4), fontsize=14, \n",
    "         title='Trip Type frequency (among visits)')"
   ]
  },
  {
   "cell_type": "code",
   "execution_count": 52,
   "metadata": {
    "collapsed": false
   },
   "outputs": [
    {
     "data": {
      "text/html": [
       "<div>\n",
       "<table border=\"1\" class=\"dataframe\">\n",
       "  <thead>\n",
       "    <tr style=\"text-align: right;\">\n",
       "      <th></th>\n",
       "      <th>UPC</th>\n",
       "      <th>Weekday</th>\n",
       "      <th>DepDesc</th>\n",
       "      <th>Fineline</th>\n",
       "      <th>TripType</th>\n",
       "      <th>ScanCount</th>\n",
       "    </tr>\n",
       "    <tr>\n",
       "      <th>Visit</th>\n",
       "      <th></th>\n",
       "      <th></th>\n",
       "      <th></th>\n",
       "      <th></th>\n",
       "      <th></th>\n",
       "      <th></th>\n",
       "    </tr>\n",
       "  </thead>\n",
       "  <tbody>\n",
       "    <tr>\n",
       "      <th>5</th>\n",
       "      <td>6.811315e+10</td>\n",
       "      <td>Friday</td>\n",
       "      <td>FINANCIAL SERVICES</td>\n",
       "      <td>1000.0</td>\n",
       "      <td>999</td>\n",
       "      <td>-1</td>\n",
       "    </tr>\n",
       "    <tr>\n",
       "      <th>133</th>\n",
       "      <td>9.933894e+09</td>\n",
       "      <td>Friday</td>\n",
       "      <td>LADIESWEAR</td>\n",
       "      <td>1180.0</td>\n",
       "      <td>999</td>\n",
       "      <td>1</td>\n",
       "    </tr>\n",
       "    <tr>\n",
       "      <th>133</th>\n",
       "      <td>9.933894e+09</td>\n",
       "      <td>Friday</td>\n",
       "      <td>LADIESWEAR</td>\n",
       "      <td>1180.0</td>\n",
       "      <td>999</td>\n",
       "      <td>-1</td>\n",
       "    </tr>\n",
       "    <tr>\n",
       "      <th>182</th>\n",
       "      <td>5.473282e+09</td>\n",
       "      <td>Friday</td>\n",
       "      <td>HARDWARE</td>\n",
       "      <td>8410.0</td>\n",
       "      <td>999</td>\n",
       "      <td>-1</td>\n",
       "    </tr>\n",
       "    <tr>\n",
       "      <th>190</th>\n",
       "      <td>4.316875e+09</td>\n",
       "      <td>Friday</td>\n",
       "      <td>HARDWARE</td>\n",
       "      <td>4513.0</td>\n",
       "      <td>999</td>\n",
       "      <td>-1</td>\n",
       "    </tr>\n",
       "  </tbody>\n",
       "</table>\n",
       "</div>"
      ],
      "text/plain": [
       "                UPC Weekday             DepDesc  Fineline  TripType  ScanCount\n",
       "Visit                                                                         \n",
       "5      6.811315e+10  Friday  FINANCIAL SERVICES    1000.0       999         -1\n",
       "133    9.933894e+09  Friday          LADIESWEAR    1180.0       999          1\n",
       "133    9.933894e+09  Friday          LADIESWEAR    1180.0       999         -1\n",
       "182    5.473282e+09  Friday            HARDWARE    8410.0       999         -1\n",
       "190    4.316875e+09  Friday            HARDWARE    4513.0       999         -1"
      ]
     },
     "execution_count": 52,
     "metadata": {},
     "output_type": "execute_result"
    }
   ],
   "source": [
    "train999 = train.ix[train.TripType == 999]\n",
    "train999.head()  # Look at 20"
   ]
  },
  {
   "cell_type": "markdown",
   "metadata": {},
   "source": [
    "We see several types of 999 visits:\n",
    "\n",
    "* Unique returns\n",
    "    * No replacement, e.g. 182, 190, 261, 400\n",
    "    * Item replacement, e.g. 133\n",
    "* Financial services\n",
    "    * Negative, e.g. 5, 253, 281, 317\n",
    "    * Positive, e.g. 351, 357\n",
    "* Regular (or not?) visits, e.g. 207, 295\n",
    "\n",
    "We test their \"confidence\" one by one, to see whether the other direction works (e.g. whether the mere presence of unique returns indicate _TripType_ 999)"
   ]
  },
  {
   "cell_type": "markdown",
   "metadata": {},
   "source": [
    "##### Unique returns"
   ]
  },
  {
   "cell_type": "markdown",
   "metadata": {},
   "source": [
    "At this stage all returns are unique returns ,so we can exanime the _TripType_ associated with them."
   ]
  },
  {
   "cell_type": "code",
   "execution_count": 53,
   "metadata": {
    "collapsed": false
   },
   "outputs": [
    {
     "name": "stdout",
     "output_type": "stream",
     "text": [
      "999    7632\n",
      "7         2\n",
      "39        1\n",
      "35        1\n",
      "38        1\n",
      "22        1\n",
      "29        1\n",
      "44        1\n",
      "40        1\n",
      "8         1\n",
      "Name: TripType, dtype: int64\n"
     ]
    }
   ],
   "source": [
    "unique_returns_cnt = train.ix[train.ScanCount < 0]\\\n",
    "    .TripType.value_counts()\n",
    "print unique_returns_cnt"
   ]
  },
  {
   "cell_type": "markdown",
   "metadata": {},
   "source": [
    "**Conclusion \\#1:** If a visit has a unique return, then we can predict that its _TripType_ is 999."
   ]
  },
  {
   "cell_type": "markdown",
   "metadata": {},
   "source": [
    "This means that we can ignore visits which include unique returns and deal with them (namely, classify such visits) separately."
   ]
  },
  {
   "cell_type": "code",
   "execution_count": 54,
   "metadata": {
    "collapsed": false
   },
   "outputs": [],
   "source": [
    "# train = train_grp.filter(lambda grp: (grp.ScanCount>0).all())"
   ]
  },
  {
   "cell_type": "code",
   "execution_count": 55,
   "metadata": {
    "collapsed": false
   },
   "outputs": [
    {
     "name": "stdout",
     "output_type": "stream",
     "text": [
      "5157 7642\n"
     ]
    }
   ],
   "source": [
    "visits_with_returns = train.ix[train.ScanCount<0]\n",
    "print visits_with_returns.index.nunique(), len(visits_with_returns)\n",
    "train.drop(visits_with_returns.index.unique(), inplace=True)"
   ]
  },
  {
   "cell_type": "markdown",
   "metadata": {},
   "source": [
    "> **NOTE:** The (commented) filtration implementation is more natural, but it looks like _filter()_ is not very fast..."
   ]
  },
  {
   "cell_type": "code",
   "execution_count": 56,
   "metadata": {
    "collapsed": false
   },
   "outputs": [
    {
     "name": "stdout",
     "output_type": "stream",
     "text": [
      "87997 617547\n"
     ]
    }
   ],
   "source": [
    "print train.index.nunique(), len(train)"
   ]
  },
  {
   "cell_type": "markdown",
   "metadata": {},
   "source": [
    "> **NOTE:** 626968 != 617547 + 7642 because some visits include unique returns AND other items."
   ]
  },
  {
   "cell_type": "markdown",
   "metadata": {},
   "source": [
    "Again, after the filtration we recreate the GroupBy object."
   ]
  },
  {
   "cell_type": "code",
   "execution_count": 57,
   "metadata": {
    "collapsed": true
   },
   "outputs": [],
   "source": [
    "train_grp = train.groupby(level='Visit')"
   ]
  },
  {
   "cell_type": "markdown",
   "metadata": {},
   "source": [
    "> **STATUS:** At this stage there are no NaNs, no duplicted UPCs and no returns ($\\rightarrow$ all _ScanCount_ values are greater than 0)."
   ]
  },
  {
   "cell_type": "markdown",
   "metadata": {},
   "source": [
    "##### Financial services (regardless of _TripType = 999_)"
   ]
  },
  {
   "cell_type": "markdown",
   "metadata": {},
   "source": [
    "We first create a dataframe with only the records of the financial service data."
   ]
  },
  {
   "cell_type": "code",
   "execution_count": 58,
   "metadata": {
    "collapsed": false
   },
   "outputs": [
    {
     "name": "stdout",
     "output_type": "stream",
     "text": [
      "(9452, 6)\n"
     ]
    },
    {
     "data": {
      "text/html": [
       "<div>\n",
       "<table border=\"1\" class=\"dataframe\">\n",
       "  <thead>\n",
       "    <tr style=\"text-align: right;\">\n",
       "      <th></th>\n",
       "      <th>UPC</th>\n",
       "      <th>Weekday</th>\n",
       "      <th>DepDesc</th>\n",
       "      <th>Fineline</th>\n",
       "      <th>TripType</th>\n",
       "      <th>ScanCount</th>\n",
       "    </tr>\n",
       "    <tr>\n",
       "      <th>Visit</th>\n",
       "      <th></th>\n",
       "      <th></th>\n",
       "      <th></th>\n",
       "      <th></th>\n",
       "      <th></th>\n",
       "      <th></th>\n",
       "    </tr>\n",
       "  </thead>\n",
       "  <tbody>\n",
       "    <tr>\n",
       "      <th>106</th>\n",
       "      <td>6.053890e+10</td>\n",
       "      <td>Friday</td>\n",
       "      <td>FINANCIAL SERVICES</td>\n",
       "      <td>276.0</td>\n",
       "      <td>3</td>\n",
       "      <td>1</td>\n",
       "    </tr>\n",
       "    <tr>\n",
       "      <th>106</th>\n",
       "      <td>6.811316e+10</td>\n",
       "      <td>Friday</td>\n",
       "      <td>FINANCIAL SERVICES</td>\n",
       "      <td>275.0</td>\n",
       "      <td>3</td>\n",
       "      <td>1</td>\n",
       "    </tr>\n",
       "    <tr>\n",
       "      <th>121</th>\n",
       "      <td>6.811316e+10</td>\n",
       "      <td>Friday</td>\n",
       "      <td>FINANCIAL SERVICES</td>\n",
       "      <td>278.0</td>\n",
       "      <td>3</td>\n",
       "      <td>1</td>\n",
       "    </tr>\n",
       "    <tr>\n",
       "      <th>121</th>\n",
       "      <td>6.811316e+10</td>\n",
       "      <td>Friday</td>\n",
       "      <td>FINANCIAL SERVICES</td>\n",
       "      <td>277.0</td>\n",
       "      <td>3</td>\n",
       "      <td>1</td>\n",
       "    </tr>\n",
       "    <tr>\n",
       "      <th>153</th>\n",
       "      <td>6.053889e+10</td>\n",
       "      <td>Friday</td>\n",
       "      <td>FINANCIAL SERVICES</td>\n",
       "      <td>285.0</td>\n",
       "      <td>3</td>\n",
       "      <td>1</td>\n",
       "    </tr>\n",
       "  </tbody>\n",
       "</table>\n",
       "</div>"
      ],
      "text/plain": [
       "                UPC Weekday             DepDesc  Fineline  TripType  ScanCount\n",
       "Visit                                                                         \n",
       "106    6.053890e+10  Friday  FINANCIAL SERVICES     276.0         3          1\n",
       "106    6.811316e+10  Friday  FINANCIAL SERVICES     275.0         3          1\n",
       "121    6.811316e+10  Friday  FINANCIAL SERVICES     278.0         3          1\n",
       "121    6.811316e+10  Friday  FINANCIAL SERVICES     277.0         3          1\n",
       "153    6.053889e+10  Friday  FINANCIAL SERVICES     285.0         3          1"
      ]
     },
     "execution_count": 58,
     "metadata": {},
     "output_type": "execute_result"
    }
   ],
   "source": [
    "df_fs = train.ix[train.DepDesc == 'FINANCIAL SERVICES']\n",
    "print df_fs.shape\n",
    "df_fs.head()"
   ]
  },
  {
   "cell_type": "markdown",
   "metadata": {},
   "source": [
    "We note that the information in the _rows_ and the information in the _visits_ is not the same."
   ]
  },
  {
   "cell_type": "code",
   "execution_count": 59,
   "metadata": {
    "collapsed": false
   },
   "outputs": [
    {
     "data": {
      "text/plain": [
       "<matplotlib.axes._subplots.AxesSubplot at 0x205f3a20>"
      ]
     },
     "execution_count": 59,
     "metadata": {},
     "output_type": "execute_result"
    },
    {
     "data": {
      "image/png": "[encoded data removed]",
      "text/plain": [
       "<matplotlib.figure.Figure at 0x168fcba8>"
      ]
     },
     "metadata": {},
     "output_type": "display_data"
    }
   ],
   "source": [
    "df_fs['TripType'].value_counts()\\\n",
    "    .plot(kind='bar', figsize=(12, 4),\n",
    "          title='Financial services ROWS per trip type')"
   ]
  },
  {
   "cell_type": "code",
   "execution_count": 60,
   "metadata": {
    "collapsed": false
   },
   "outputs": [
    {
     "data": {
      "text/plain": [
       "<matplotlib.axes._subplots.AxesSubplot at 0x20633320>"
      ]
     },
     "execution_count": 60,
     "metadata": {},
     "output_type": "execute_result"
    },
    {
     "data": {
      "image/png": "[encoded data removed]",
      "text/plain": [
       "<matplotlib.figure.Figure at 0x108f0240>"
      ]
     },
     "metadata": {},
     "output_type": "display_data"
    }
   ],
   "source": [
    "grouped = df_fs.groupby(level='Visit')\n",
    "grouped['TripType'].min().value_counts()\\\n",
    "    .plot(kind='bar', figsize=(12, 4),\n",
    "          title='Financial services VISITS per trip type')"
   ]
  },
  {
   "cell_type": "markdown",
   "metadata": {},
   "source": [
    "What is the difference between visits that include the _DepartmentDescription_ FINANCIAL SERVICES, but have different _TripType_ values?"
   ]
  },
  {
   "cell_type": "code",
   "execution_count": 61,
   "metadata": {
    "collapsed": false
   },
   "outputs": [
    {
     "data": {
      "text/html": [
       "<div>\n",
       "<table border=\"1\" class=\"dataframe\">\n",
       "  <thead>\n",
       "    <tr style=\"text-align: right;\">\n",
       "      <th></th>\n",
       "      <th>UPC</th>\n",
       "      <th>Weekday</th>\n",
       "      <th>DepDesc</th>\n",
       "      <th>Fineline</th>\n",
       "      <th>TripType</th>\n",
       "      <th>ScanCount</th>\n",
       "    </tr>\n",
       "    <tr>\n",
       "      <th>Visit</th>\n",
       "      <th></th>\n",
       "      <th></th>\n",
       "      <th></th>\n",
       "      <th></th>\n",
       "      <th></th>\n",
       "      <th></th>\n",
       "    </tr>\n",
       "  </thead>\n",
       "  <tbody>\n",
       "    <tr>\n",
       "      <th>106</th>\n",
       "      <td>6.053890e+10</td>\n",
       "      <td>Friday</td>\n",
       "      <td>FINANCIAL SERVICES</td>\n",
       "      <td>276.0</td>\n",
       "      <td>3</td>\n",
       "      <td>1</td>\n",
       "    </tr>\n",
       "    <tr>\n",
       "      <th>106</th>\n",
       "      <td>6.811316e+10</td>\n",
       "      <td>Friday</td>\n",
       "      <td>FINANCIAL SERVICES</td>\n",
       "      <td>275.0</td>\n",
       "      <td>3</td>\n",
       "      <td>1</td>\n",
       "    </tr>\n",
       "    <tr>\n",
       "      <th>46274</th>\n",
       "      <td>6.053882e+10</td>\n",
       "      <td>Friday</td>\n",
       "      <td>FINANCIAL SERVICES</td>\n",
       "      <td>1000.0</td>\n",
       "      <td>3</td>\n",
       "      <td>1</td>\n",
       "    </tr>\n",
       "    <tr>\n",
       "      <th>46274</th>\n",
       "      <td>8.303240e+10</td>\n",
       "      <td>Friday</td>\n",
       "      <td>IMPULSE MERCHANDISE</td>\n",
       "      <td>1001.0</td>\n",
       "      <td>3</td>\n",
       "      <td>1</td>\n",
       "    </tr>\n",
       "    <tr>\n",
       "      <th>101274</th>\n",
       "      <td>6.053889e+10</td>\n",
       "      <td>Sunday</td>\n",
       "      <td>FINANCIAL SERVICES</td>\n",
       "      <td>285.0</td>\n",
       "      <td>3</td>\n",
       "      <td>1</td>\n",
       "    </tr>\n",
       "    <tr>\n",
       "      <th>101274</th>\n",
       "      <td>6.811311e+10</td>\n",
       "      <td>Sunday</td>\n",
       "      <td>FINANCIAL SERVICES</td>\n",
       "      <td>200.0</td>\n",
       "      <td>3</td>\n",
       "      <td>1</td>\n",
       "    </tr>\n",
       "    <tr>\n",
       "      <th>164572</th>\n",
       "      <td>6.053882e+10</td>\n",
       "      <td>Wednesday</td>\n",
       "      <td>FINANCIAL SERVICES</td>\n",
       "      <td>1000.0</td>\n",
       "      <td>3</td>\n",
       "      <td>1</td>\n",
       "    </tr>\n",
       "    <tr>\n",
       "      <th>164572</th>\n",
       "      <td>6.811318e+10</td>\n",
       "      <td>Wednesday</td>\n",
       "      <td>FINANCIAL SERVICES</td>\n",
       "      <td>283.0</td>\n",
       "      <td>3</td>\n",
       "      <td>1</td>\n",
       "    </tr>\n",
       "  </tbody>\n",
       "</table>\n",
       "</div>"
      ],
      "text/plain": [
       "                 UPC    Weekday              DepDesc  Fineline  TripType  ScanCount\n",
       "Visit                                                                              \n",
       "106     6.053890e+10     Friday   FINANCIAL SERVICES     276.0         3          1\n",
       "106     6.811316e+10     Friday   FINANCIAL SERVICES     275.0         3          1\n",
       "46274   6.053882e+10     Friday   FINANCIAL SERVICES    1000.0         3          1\n",
       "46274   8.303240e+10     Friday  IMPULSE MERCHANDISE    1001.0         3          1\n",
       "101274  6.053889e+10     Sunday   FINANCIAL SERVICES     285.0         3          1\n",
       "101274  6.811311e+10     Sunday   FINANCIAL SERVICES     200.0         3          1\n",
       "164572  6.053882e+10  Wednesday   FINANCIAL SERVICES    1000.0         3          1\n",
       "164572  6.811318e+10  Wednesday   FINANCIAL SERVICES     283.0         3          1"
      ]
     },
     "execution_count": 61,
     "metadata": {},
     "output_type": "execute_result"
    }
   ],
   "source": [
    "fs_rows_tt3 = df_fs.ix[df_fs.TripType == 3]\n",
    "train.ix[fs_rows_tt3.index.unique()[::1000]] # Look at step=100"
   ]
  },
  {
   "cell_type": "code",
   "execution_count": 62,
   "metadata": {
    "collapsed": false
   },
   "outputs": [
    {
     "data": {
      "text/html": [
       "<div>\n",
       "<table border=\"1\" class=\"dataframe\">\n",
       "  <thead>\n",
       "    <tr style=\"text-align: right;\">\n",
       "      <th></th>\n",
       "      <th>UPC</th>\n",
       "      <th>Weekday</th>\n",
       "      <th>DepDesc</th>\n",
       "      <th>Fineline</th>\n",
       "      <th>TripType</th>\n",
       "      <th>ScanCount</th>\n",
       "    </tr>\n",
       "    <tr>\n",
       "      <th>Visit</th>\n",
       "      <th></th>\n",
       "      <th></th>\n",
       "      <th></th>\n",
       "      <th></th>\n",
       "      <th></th>\n",
       "      <th></th>\n",
       "    </tr>\n",
       "  </thead>\n",
       "  <tbody>\n",
       "    <tr>\n",
       "      <th>351</th>\n",
       "      <td>6.811318e+10</td>\n",
       "      <td>Friday</td>\n",
       "      <td>FINANCIAL SERVICES</td>\n",
       "      <td>281.0</td>\n",
       "      <td>999</td>\n",
       "      <td>1</td>\n",
       "    </tr>\n",
       "    <tr>\n",
       "      <th>351</th>\n",
       "      <td>6.811318e+10</td>\n",
       "      <td>Friday</td>\n",
       "      <td>FINANCIAL SERVICES</td>\n",
       "      <td>280.0</td>\n",
       "      <td>999</td>\n",
       "      <td>1</td>\n",
       "    </tr>\n",
       "    <tr>\n",
       "      <th>40596</th>\n",
       "      <td>6.811318e+10</td>\n",
       "      <td>Thursday</td>\n",
       "      <td>FINANCIAL SERVICES</td>\n",
       "      <td>281.0</td>\n",
       "      <td>999</td>\n",
       "      <td>1</td>\n",
       "    </tr>\n",
       "    <tr>\n",
       "      <th>40596</th>\n",
       "      <td>6.811318e+10</td>\n",
       "      <td>Thursday</td>\n",
       "      <td>FINANCIAL SERVICES</td>\n",
       "      <td>280.0</td>\n",
       "      <td>999</td>\n",
       "      <td>1</td>\n",
       "    </tr>\n",
       "    <tr>\n",
       "      <th>92387</th>\n",
       "      <td>2.519222e+09</td>\n",
       "      <td>Friday</td>\n",
       "      <td>MEDIA AND GAMING</td>\n",
       "      <td>9257.0</td>\n",
       "      <td>999</td>\n",
       "      <td>1</td>\n",
       "    </tr>\n",
       "    <tr>\n",
       "      <th>92387</th>\n",
       "      <td>2.724289e+09</td>\n",
       "      <td>Friday</td>\n",
       "      <td>ELECTRONICS</td>\n",
       "      <td>4294.0</td>\n",
       "      <td>999</td>\n",
       "      <td>0</td>\n",
       "    </tr>\n",
       "    <tr>\n",
       "      <th>92387</th>\n",
       "      <td>4.141942e+09</td>\n",
       "      <td>Friday</td>\n",
       "      <td>IMPULSE MERCHANDISE</td>\n",
       "      <td>808.0</td>\n",
       "      <td>999</td>\n",
       "      <td>1</td>\n",
       "    </tr>\n",
       "    <tr>\n",
       "      <th>92387</th>\n",
       "      <td>6.053880e+10</td>\n",
       "      <td>Friday</td>\n",
       "      <td>FINANCIAL SERVICES</td>\n",
       "      <td>3903.0</td>\n",
       "      <td>999</td>\n",
       "      <td>0</td>\n",
       "    </tr>\n",
       "    <tr>\n",
       "      <th>156965</th>\n",
       "      <td>6.053881e+10</td>\n",
       "      <td>Tuesday</td>\n",
       "      <td>IMPULSE MERCHANDISE</td>\n",
       "      <td>1001.0</td>\n",
       "      <td>999</td>\n",
       "      <td>1</td>\n",
       "    </tr>\n",
       "    <tr>\n",
       "      <th>156965</th>\n",
       "      <td>6.053882e+10</td>\n",
       "      <td>Tuesday</td>\n",
       "      <td>FINANCIAL SERVICES</td>\n",
       "      <td>1000.0</td>\n",
       "      <td>999</td>\n",
       "      <td>1</td>\n",
       "    </tr>\n",
       "  </tbody>\n",
       "</table>\n",
       "</div>"
      ],
      "text/plain": [
       "                 UPC   Weekday              DepDesc  Fineline  TripType  ScanCount\n",
       "Visit                                                                             \n",
       "351     6.811318e+10    Friday   FINANCIAL SERVICES     281.0       999          1\n",
       "351     6.811318e+10    Friday   FINANCIAL SERVICES     280.0       999          1\n",
       "40596   6.811318e+10  Thursday   FINANCIAL SERVICES     281.0       999          1\n",
       "40596   6.811318e+10  Thursday   FINANCIAL SERVICES     280.0       999          1\n",
       "92387   2.519222e+09    Friday     MEDIA AND GAMING    9257.0       999          1\n",
       "92387   2.724289e+09    Friday          ELECTRONICS    4294.0       999          0\n",
       "92387   4.141942e+09    Friday  IMPULSE MERCHANDISE     808.0       999          1\n",
       "92387   6.053880e+10    Friday   FINANCIAL SERVICES    3903.0       999          0\n",
       "156965  6.053881e+10   Tuesday  IMPULSE MERCHANDISE    1001.0       999          1\n",
       "156965  6.053882e+10   Tuesday   FINANCIAL SERVICES    1000.0       999          1"
      ]
     },
     "execution_count": 62,
     "metadata": {},
     "output_type": "execute_result"
    }
   ],
   "source": [
    "fs_rows_tt999 = df_fs.ix[df_fs.TripType == 999]\n",
    "train.ix[fs_rows_tt999.index.unique()[::200]] # Look at step=100"
   ]
  },
  {
   "cell_type": "markdown",
   "metadata": {},
   "source": [
    "We see that _TripType = 3_ and _TripType=999_ are very similar when it comes to Financial Services, so how can we distinguish between them? We can use the _FinelineNumber_!"
   ]
  },
  {
   "cell_type": "markdown",
   "metadata": {},
   "source": [
    "#### Illustration 1"
   ]
  },
  {
   "cell_type": "code",
   "execution_count": 63,
   "metadata": {
    "collapsed": false
   },
   "outputs": [],
   "source": [
    "d_fs_tt = {}  # {TripType: Fineline value counts (Series)}\n",
    "for tt in df_fs.TripType.unique():\n",
    "    df_fs_tt = df_fs.ix[df_fs.TripType == tt]\n",
    "    d_fs_tt[tt] = df_fs_tt.Fineline.value_counts()"
   ]
  },
  {
   "cell_type": "code",
   "execution_count": 64,
   "metadata": {
    "collapsed": false
   },
   "outputs": [
    {
     "data": {
      "text/html": [
       "<div>\n",
       "<table border=\"1\" class=\"dataframe\">\n",
       "  <thead>\n",
       "    <tr style=\"text-align: right;\">\n",
       "      <th></th>\n",
       "      <th>0.0</th>\n",
       "      <th>200.0</th>\n",
       "      <th>275.0</th>\n",
       "      <th>276.0</th>\n",
       "      <th>277.0</th>\n",
       "      <th>278.0</th>\n",
       "      <th>280.0</th>\n",
       "      <th>281.0</th>\n",
       "      <th>282.0</th>\n",
       "      <th>283.0</th>\n",
       "    </tr>\n",
       "  </thead>\n",
       "  <tbody>\n",
       "    <tr>\n",
       "      <th>3</th>\n",
       "      <td>805.0</td>\n",
       "      <td>282.0</td>\n",
       "      <td>691.0</td>\n",
       "      <td>691.0</td>\n",
       "      <td>829.0</td>\n",
       "      <td>829.0</td>\n",
       "      <td>NaN</td>\n",
       "      <td>NaN</td>\n",
       "      <td>35.0</td>\n",
       "      <td>427.0</td>\n",
       "    </tr>\n",
       "    <tr>\n",
       "      <th>4</th>\n",
       "      <td>5.0</td>\n",
       "      <td>NaN</td>\n",
       "      <td>NaN</td>\n",
       "      <td>NaN</td>\n",
       "      <td>NaN</td>\n",
       "      <td>NaN</td>\n",
       "      <td>NaN</td>\n",
       "      <td>NaN</td>\n",
       "      <td>NaN</td>\n",
       "      <td>NaN</td>\n",
       "    </tr>\n",
       "    <tr>\n",
       "      <th>5</th>\n",
       "      <td>50.0</td>\n",
       "      <td>NaN</td>\n",
       "      <td>NaN</td>\n",
       "      <td>NaN</td>\n",
       "      <td>NaN</td>\n",
       "      <td>NaN</td>\n",
       "      <td>NaN</td>\n",
       "      <td>NaN</td>\n",
       "      <td>NaN</td>\n",
       "      <td>NaN</td>\n",
       "    </tr>\n",
       "    <tr>\n",
       "      <th>6</th>\n",
       "      <td>13.0</td>\n",
       "      <td>NaN</td>\n",
       "      <td>NaN</td>\n",
       "      <td>NaN</td>\n",
       "      <td>NaN</td>\n",
       "      <td>NaN</td>\n",
       "      <td>NaN</td>\n",
       "      <td>NaN</td>\n",
       "      <td>NaN</td>\n",
       "      <td>NaN</td>\n",
       "    </tr>\n",
       "    <tr>\n",
       "      <th>7</th>\n",
       "      <td>65.0</td>\n",
       "      <td>NaN</td>\n",
       "      <td>NaN</td>\n",
       "      <td>NaN</td>\n",
       "      <td>NaN</td>\n",
       "      <td>NaN</td>\n",
       "      <td>NaN</td>\n",
       "      <td>NaN</td>\n",
       "      <td>NaN</td>\n",
       "      <td>NaN</td>\n",
       "    </tr>\n",
       "  </tbody>\n",
       "</table>\n",
       "</div>"
      ],
      "text/plain": [
       "   0.0    200.0  275.0  276.0  277.0  278.0  280.0  281.0  282.0  283.0\n",
       "3  805.0  282.0  691.0  691.0  829.0  829.0    NaN    NaN   35.0  427.0\n",
       "4    5.0    NaN    NaN    NaN    NaN    NaN    NaN    NaN    NaN    NaN\n",
       "5   50.0    NaN    NaN    NaN    NaN    NaN    NaN    NaN    NaN    NaN\n",
       "6   13.0    NaN    NaN    NaN    NaN    NaN    NaN    NaN    NaN    NaN\n",
       "7   65.0    NaN    NaN    NaN    NaN    NaN    NaN    NaN    NaN    NaN"
      ]
     },
     "execution_count": 64,
     "metadata": {},
     "output_type": "execute_result"
    }
   ],
   "source": [
    "df_fl = pd.DataFrame(d_fs_tt).transpose()\n",
    "df_fl.head().iloc[:, :10]"
   ]
  },
  {
   "cell_type": "code",
   "execution_count": 65,
   "metadata": {
    "collapsed": false
   },
   "outputs": [
    {
     "data": {
      "text/plain": [
       "<matplotlib.axes._subplots.AxesSubplot at 0x10effe48>"
      ]
     },
     "execution_count": 65,
     "metadata": {},
     "output_type": "execute_result"
    },
    {
     "data": {
      "image/png": "[encoded data removed]",
      "text/plain": [
       "<matplotlib.figure.Figure at 0x16685f28>"
      ]
     },
     "metadata": {},
     "output_type": "display_data"
    }
   ],
   "source": [
    "df_fl_sample = df_fl.iloc[:, :10]\n",
    "df_fl_sample.plot(kind='bar', figsize=(12, 4), fontsize=16,\n",
    "                  title='Fineline distribution for financial services')"
   ]
  },
  {
   "cell_type": "markdown",
   "metadata": {},
   "source": [
    "#### Illustration 2"
   ]
  },
  {
   "cell_type": "code",
   "execution_count": 66,
   "metadata": {
    "collapsed": false
   },
   "outputs": [
    {
     "data": {
      "text/html": [
       "<div>\n",
       "<table border=\"1\" class=\"dataframe\">\n",
       "  <thead>\n",
       "    <tr style=\"text-align: right;\">\n",
       "      <th>Fineline</th>\n",
       "      <th>0.0</th>\n",
       "      <th>200.0</th>\n",
       "      <th>275.0</th>\n",
       "      <th>276.0</th>\n",
       "      <th>277.0</th>\n",
       "      <th>278.0</th>\n",
       "      <th>280.0</th>\n",
       "      <th>281.0</th>\n",
       "      <th>282.0</th>\n",
       "      <th>283.0</th>\n",
       "    </tr>\n",
       "    <tr>\n",
       "      <th>TripType</th>\n",
       "      <th></th>\n",
       "      <th></th>\n",
       "      <th></th>\n",
       "      <th></th>\n",
       "      <th></th>\n",
       "      <th></th>\n",
       "      <th></th>\n",
       "      <th></th>\n",
       "      <th></th>\n",
       "      <th></th>\n",
       "    </tr>\n",
       "  </thead>\n",
       "  <tbody>\n",
       "    <tr>\n",
       "      <th>3</th>\n",
       "      <td>0.216223</td>\n",
       "      <td>1.0</td>\n",
       "      <td>0.995677</td>\n",
       "      <td>0.995677</td>\n",
       "      <td>1.0</td>\n",
       "      <td>1.0</td>\n",
       "      <td>0.0</td>\n",
       "      <td>0.0</td>\n",
       "      <td>1.0</td>\n",
       "      <td>1.0</td>\n",
       "    </tr>\n",
       "    <tr>\n",
       "      <th>4</th>\n",
       "      <td>0.001343</td>\n",
       "      <td>0.0</td>\n",
       "      <td>0.000000</td>\n",
       "      <td>0.000000</td>\n",
       "      <td>0.0</td>\n",
       "      <td>0.0</td>\n",
       "      <td>0.0</td>\n",
       "      <td>0.0</td>\n",
       "      <td>0.0</td>\n",
       "      <td>0.0</td>\n",
       "    </tr>\n",
       "    <tr>\n",
       "      <th>5</th>\n",
       "      <td>0.013430</td>\n",
       "      <td>0.0</td>\n",
       "      <td>0.000000</td>\n",
       "      <td>0.000000</td>\n",
       "      <td>0.0</td>\n",
       "      <td>0.0</td>\n",
       "      <td>0.0</td>\n",
       "      <td>0.0</td>\n",
       "      <td>0.0</td>\n",
       "      <td>0.0</td>\n",
       "    </tr>\n",
       "    <tr>\n",
       "      <th>6</th>\n",
       "      <td>0.003492</td>\n",
       "      <td>0.0</td>\n",
       "      <td>0.000000</td>\n",
       "      <td>0.000000</td>\n",
       "      <td>0.0</td>\n",
       "      <td>0.0</td>\n",
       "      <td>0.0</td>\n",
       "      <td>0.0</td>\n",
       "      <td>0.0</td>\n",
       "      <td>0.0</td>\n",
       "    </tr>\n",
       "    <tr>\n",
       "      <th>7</th>\n",
       "      <td>0.017459</td>\n",
       "      <td>0.0</td>\n",
       "      <td>0.000000</td>\n",
       "      <td>0.000000</td>\n",
       "      <td>0.0</td>\n",
       "      <td>0.0</td>\n",
       "      <td>0.0</td>\n",
       "      <td>0.0</td>\n",
       "      <td>0.0</td>\n",
       "      <td>0.0</td>\n",
       "    </tr>\n",
       "  </tbody>\n",
       "</table>\n",
       "</div>"
      ],
      "text/plain": [
       "Fineline     0.0    200.0     275.0     276.0  277.0  278.0  280.0  281.0  282.0  283.0\n",
       "TripType                                                                               \n",
       "3         0.216223    1.0  0.995677  0.995677    1.0    1.0    0.0    0.0    1.0    1.0\n",
       "4         0.001343    0.0  0.000000  0.000000    0.0    0.0    0.0    0.0    0.0    0.0\n",
       "5         0.013430    0.0  0.000000  0.000000    0.0    0.0    0.0    0.0    0.0    0.0\n",
       "6         0.003492    0.0  0.000000  0.000000    0.0    0.0    0.0    0.0    0.0    0.0\n",
       "7         0.017459    0.0  0.000000  0.000000    0.0    0.0    0.0    0.0    0.0    0.0"
      ]
     },
     "execution_count": 66,
     "metadata": {},
     "output_type": "execute_result"
    }
   ],
   "source": [
    "df_fs_fl = pd.crosstab(index=df_fs.TripType, \n",
    "                       columns=df_fs.Fineline, \n",
    "                       normalize='columns')\n",
    "df_fs_fl.head().iloc[:, :10]"
   ]
  },
  {
   "cell_type": "code",
   "execution_count": 67,
   "metadata": {
    "collapsed": false
   },
   "outputs": [
    {
     "data": {
      "text/plain": [
       "<matplotlib.axes._subplots.AxesSubplot at 0x1fe704e0>"
      ]
     },
     "execution_count": 67,
     "metadata": {},
     "output_type": "execute_result"
    },
    {
     "data": {
      "image/png": "[encoded data removed]",
      "text/plain": [
       "<matplotlib.figure.Figure at 0x161dd390>"
      ]
     },
     "metadata": {},
     "output_type": "display_data"
    }
   ],
   "source": [
    "fig, ax = plt.subplots(figsize=(13, 9))\n",
    "sns.heatmap(ax=ax, data=df_fs_fl, \n",
    "            linecolor='lightgrey', \n",
    "            linewidths=.1)"
   ]
  },
  {
   "cell_type": "markdown",
   "metadata": {},
   "source": [
    "**Conclusion \\#2:** We note that the data frame _fs_\\__fl_ is actually the classification probabilities for visits with financial services."
   ]
  },
  {
   "cell_type": "markdown",
   "metadata": {},
   "source": [
    "#### Decisive Fineline numbers"
   ]
  },
  {
   "cell_type": "markdown",
   "metadata": {},
   "source": [
    "So there are _FinelineNumber_ values that give nearly 100% prediction of the _TripType_ while others do not. "
   ]
  },
  {
   "cell_type": "code",
   "execution_count": 68,
   "metadata": {
    "collapsed": false
   },
   "outputs": [
    {
     "name": "stdout",
     "output_type": "stream",
     "text": [
      "Float64Index([   0.0,  200.0,  275.0,  276.0,  277.0,  278.0,  280.0,  281.0,\n",
      "               282.0,  283.0,  284.0,  285.0,  286.0,  287.0,  733.0,  734.0,\n",
      "               799.0,  800.0,  818.0,  854.0,  856.0, 1000.0, 3903.0, 3904.0],\n",
      "             dtype='float64', name=u'Fineline')\n"
     ]
    }
   ],
   "source": [
    "print df_fs_fl.columns"
   ]
  },
  {
   "cell_type": "code",
   "execution_count": 69,
   "metadata": {
    "collapsed": false
   },
   "outputs": [
    {
     "name": "stdout",
     "output_type": "stream",
     "text": [
      "[200.0, 275.0, 276.0, 277.0, 278.0, 280.0, 281.0, 282.0, 283.0, 284.0, 286.0, 287.0, 733.0, 734.0, 799.0, 800.0, 818.0, 854.0, 856.0, 3904.0]\n"
     ]
    }
   ],
   "source": [
    "decisive_fl = [fl for fl in df_fs_fl.columns \n",
    "               if df_fs_fl[fl].max() > 0.99]\n",
    "print decisive_fl"
   ]
  },
  {
   "cell_type": "code",
   "execution_count": 70,
   "metadata": {
    "collapsed": false
   },
   "outputs": [
    {
     "name": "stdout",
     "output_type": "stream",
     "text": [
      "[0.0, 285.0, 1000.0, 3903.0]\n"
     ]
    }
   ],
   "source": [
    "non_decisive_fl = [fl for fl in df_fs_fl.columns \n",
    "                   if df_fs_fl[fl].max() <= 0.99]\n",
    "print non_decisive_fl"
   ]
  },
  {
   "cell_type": "markdown",
   "metadata": {},
   "source": [
    "For classification purposes we can drop visits with decisive _FinelineNumber_."
   ]
  },
  {
   "cell_type": "code",
   "execution_count": 71,
   "metadata": {
    "collapsed": false
   },
   "outputs": [],
   "source": [
    "df_decisive = df_fs.ix[df_fs.Fineline.isin(decisive_fl)]\n",
    "train.drop(df_decisive.index.unique(), inplace=True)"
   ]
  },
  {
   "cell_type": "code",
   "execution_count": 72,
   "metadata": {
    "collapsed": false
   },
   "outputs": [
    {
     "name": "stdout",
     "output_type": "stream",
     "text": [
      "85339 612510\n"
     ]
    }
   ],
   "source": [
    "print train.index.nunique(), len(train)"
   ]
  },
  {
   "cell_type": "markdown",
   "metadata": {},
   "source": [
    "> **STATUS:** At this stage there are no NANs, no duplicate UPCs, no unique returns (999), and no visits with FINANCIAL SERVICES which have _FinelineNumber_ other than 0, 285, 1000 or 3903."
   ]
  },
  {
   "cell_type": "code",
   "execution_count": 73,
   "metadata": {
    "collapsed": false
   },
   "outputs": [],
   "source": [
    "train_grp = train.groupby(level='Visit')"
   ]
  },
  {
   "cell_type": "markdown",
   "metadata": {
    "collapsed": true
   },
   "source": [
    "## Final dataset assembly"
   ]
  },
  {
   "cell_type": "markdown",
   "metadata": {},
   "source": [
    "In this part we create the features that will be used by the model. Each feature(s) will be presented by a dataframe indexed by the _VisitNumber_, and at the end all of these data frames will be merged together. Along the preprocessing we've dropped visits that can be ignored by the (future) classification model, so we can now think of more \"business-oriented\" features .\n",
    "\n",
    "The following features will be considered:\n",
    "\n",
    "* deps - number of items from each department (68 new features)\n",
    "* n_departments - the number of unique departments represented in the cart\n",
    "* n_items - the number of items in the cart\n",
    "* n_upcs - the number of unique UPCs in the cart\n",
    "* common_dep - the most common department within the visit\n",
    "* TripType - dahh..."
   ]
  },
  {
   "cell_type": "markdown",
   "metadata": {},
   "source": [
    "### Items per department (_df_\\__deps_)"
   ]
  },
  {
   "cell_type": "code",
   "execution_count": 74,
   "metadata": {
    "collapsed": false
   },
   "outputs": [
    {
     "data": {
      "text/html": [
       "<div>\n",
       "<table border=\"1\" class=\"dataframe\">\n",
       "  <thead>\n",
       "    <tr style=\"text-align: right;\">\n",
       "      <th>DepDesc</th>\n",
       "      <th>1-HR PHOTO</th>\n",
       "      <th>CAMERAS AND SUPPLIES</th>\n",
       "      <th>FINANCIAL SERVICES</th>\n",
       "      <th>HOUSEHOLD CHEMICALS/SUPP</th>\n",
       "      <th>LIQUOR,WINE,BEER</th>\n",
       "      <th>PERSONAL CARE</th>\n",
       "      <th>SERVICE DELI</th>\n",
       "    </tr>\n",
       "    <tr>\n",
       "      <th>Visit</th>\n",
       "      <th></th>\n",
       "      <th></th>\n",
       "      <th></th>\n",
       "      <th></th>\n",
       "      <th></th>\n",
       "      <th></th>\n",
       "      <th></th>\n",
       "    </tr>\n",
       "  </thead>\n",
       "  <tbody>\n",
       "    <tr>\n",
       "      <th>7</th>\n",
       "      <td>0</td>\n",
       "      <td>0</td>\n",
       "      <td>0</td>\n",
       "      <td>0</td>\n",
       "      <td>0</td>\n",
       "      <td>1</td>\n",
       "      <td>0</td>\n",
       "    </tr>\n",
       "    <tr>\n",
       "      <th>8</th>\n",
       "      <td>0</td>\n",
       "      <td>0</td>\n",
       "      <td>0</td>\n",
       "      <td>1</td>\n",
       "      <td>0</td>\n",
       "      <td>0</td>\n",
       "      <td>0</td>\n",
       "    </tr>\n",
       "    <tr>\n",
       "      <th>9</th>\n",
       "      <td>0</td>\n",
       "      <td>0</td>\n",
       "      <td>0</td>\n",
       "      <td>0</td>\n",
       "      <td>0</td>\n",
       "      <td>0</td>\n",
       "      <td>0</td>\n",
       "    </tr>\n",
       "    <tr>\n",
       "      <th>10</th>\n",
       "      <td>0</td>\n",
       "      <td>0</td>\n",
       "      <td>0</td>\n",
       "      <td>0</td>\n",
       "      <td>0</td>\n",
       "      <td>0</td>\n",
       "      <td>0</td>\n",
       "    </tr>\n",
       "    <tr>\n",
       "      <th>11</th>\n",
       "      <td>0</td>\n",
       "      <td>0</td>\n",
       "      <td>0</td>\n",
       "      <td>0</td>\n",
       "      <td>0</td>\n",
       "      <td>0</td>\n",
       "      <td>0</td>\n",
       "    </tr>\n",
       "  </tbody>\n",
       "</table>\n",
       "</div>"
      ],
      "text/plain": [
       "DepDesc  1-HR PHOTO  CAMERAS AND SUPPLIES      ...       PERSONAL CARE  SERVICE DELI\n",
       "Visit                                          ...                                  \n",
       "7                 0                     0      ...                   1             0\n",
       "8                 0                     0      ...                   0             0\n",
       "9                 0                     0      ...                   0             0\n",
       "10                0                     0      ...                   0             0\n",
       "11                0                     0      ...                   0             0\n",
       "\n",
       "[5 rows x 7 columns]"
      ]
     },
     "execution_count": 74,
     "metadata": {},
     "output_type": "execute_result"
    }
   ],
   "source": [
    "df_deps = pd.pivot_table(data=train,\n",
    "                         values='ScanCount', \n",
    "                         index=train.index, \n",
    "                         columns='DepDesc', \n",
    "                         aggfunc=np.sum, \n",
    "                         fill_value=0)\n",
    "df_deps.columns = df_deps.columns.astype(str)  # Otherwise we get CategoricalIndex\n",
    "df_deps.head().iloc[:, ::10]"
   ]
  },
  {
   "cell_type": "markdown",
   "metadata": {},
   "source": [
    "### Number of departments (_df_\\__n_\\__deps_)"
   ]
  },
  {
   "cell_type": "markdown",
   "metadata": {},
   "source": [
    "We can use the latest _df_\\__deps_ in order to evaluate the number of unique departments within a visit. The aggregation returns a _Series_ object, which we will not be able to concat with _df_\\__deps_, so we make it a one-column _DataFrame_."
   ]
  },
  {
   "cell_type": "code",
   "execution_count": 75,
   "metadata": {
    "collapsed": false
   },
   "outputs": [
    {
     "data": {
      "text/html": [
       "<div>\n",
       "<table border=\"1\" class=\"dataframe\">\n",
       "  <thead>\n",
       "    <tr style=\"text-align: right;\">\n",
       "      <th></th>\n",
       "      <th>n_deps</th>\n",
       "    </tr>\n",
       "    <tr>\n",
       "      <th>Visit</th>\n",
       "      <th></th>\n",
       "    </tr>\n",
       "  </thead>\n",
       "  <tbody>\n",
       "    <tr>\n",
       "      <th>7</th>\n",
       "      <td>2</td>\n",
       "    </tr>\n",
       "    <tr>\n",
       "      <th>8</th>\n",
       "      <td>6</td>\n",
       "    </tr>\n",
       "    <tr>\n",
       "      <th>9</th>\n",
       "      <td>2</td>\n",
       "    </tr>\n",
       "    <tr>\n",
       "      <th>10</th>\n",
       "      <td>2</td>\n",
       "    </tr>\n",
       "    <tr>\n",
       "      <th>11</th>\n",
       "      <td>3</td>\n",
       "    </tr>\n",
       "  </tbody>\n",
       "</table>\n",
       "</div>"
      ],
      "text/plain": [
       "       n_deps\n",
       "Visit        \n",
       "7           2\n",
       "8           6\n",
       "9           2\n",
       "10          2\n",
       "11          3"
      ]
     },
     "execution_count": 75,
     "metadata": {},
     "output_type": "execute_result"
    }
   ],
   "source": [
    "df_n_deps = pd.DataFrame(df_deps.astype(bool).sum(axis=1), \n",
    "                         columns=['n_deps'], \n",
    "                         index=df_deps.index)\n",
    "df_n_deps.head()"
   ]
  },
  {
   "cell_type": "markdown",
   "metadata": {},
   "source": [
    "### Number of items (_df_\\__n_\\__items_)"
   ]
  },
  {
   "cell_type": "markdown",
   "metadata": {},
   "source": [
    "For this task also we can use the latest _df_\\__deps_."
   ]
  },
  {
   "cell_type": "code",
   "execution_count": 76,
   "metadata": {
    "collapsed": false
   },
   "outputs": [
    {
     "data": {
      "text/html": [
       "<div>\n",
       "<table border=\"1\" class=\"dataframe\">\n",
       "  <thead>\n",
       "    <tr style=\"text-align: right;\">\n",
       "      <th></th>\n",
       "      <th>n_items</th>\n",
       "    </tr>\n",
       "    <tr>\n",
       "      <th>Visit</th>\n",
       "      <th></th>\n",
       "    </tr>\n",
       "  </thead>\n",
       "  <tbody>\n",
       "    <tr>\n",
       "      <th>7</th>\n",
       "      <td>2</td>\n",
       "    </tr>\n",
       "    <tr>\n",
       "      <th>8</th>\n",
       "      <td>27</td>\n",
       "    </tr>\n",
       "    <tr>\n",
       "      <th>9</th>\n",
       "      <td>3</td>\n",
       "    </tr>\n",
       "    <tr>\n",
       "      <th>10</th>\n",
       "      <td>3</td>\n",
       "    </tr>\n",
       "    <tr>\n",
       "      <th>11</th>\n",
       "      <td>4</td>\n",
       "    </tr>\n",
       "  </tbody>\n",
       "</table>\n",
       "</div>"
      ],
      "text/plain": [
       "       n_items\n",
       "Visit         \n",
       "7            2\n",
       "8           27\n",
       "9            3\n",
       "10           3\n",
       "11           4"
      ]
     },
     "execution_count": 76,
     "metadata": {},
     "output_type": "execute_result"
    }
   ],
   "source": [
    "df_n_items = pd.DataFrame(df_deps.sum(axis=1), \n",
    "                          columns=['n_items'], \n",
    "                          index=df_deps.index)\n",
    "df_n_items.head()"
   ]
  },
  {
   "cell_type": "markdown",
   "metadata": {},
   "source": [
    "### Number of UPCs (_df_\\__n_\\__upcs_)"
   ]
  },
  {
   "cell_type": "code",
   "execution_count": 77,
   "metadata": {
    "collapsed": false
   },
   "outputs": [
    {
     "data": {
      "text/html": [
       "<div>\n",
       "<table border=\"1\" class=\"dataframe\">\n",
       "  <thead>\n",
       "    <tr style=\"text-align: right;\">\n",
       "      <th></th>\n",
       "      <th>n_upcs</th>\n",
       "    </tr>\n",
       "    <tr>\n",
       "      <th>Visit</th>\n",
       "      <th></th>\n",
       "    </tr>\n",
       "  </thead>\n",
       "  <tbody>\n",
       "    <tr>\n",
       "      <th>7</th>\n",
       "      <td>2</td>\n",
       "    </tr>\n",
       "    <tr>\n",
       "      <th>8</th>\n",
       "      <td>20</td>\n",
       "    </tr>\n",
       "    <tr>\n",
       "      <th>9</th>\n",
       "      <td>3</td>\n",
       "    </tr>\n",
       "    <tr>\n",
       "      <th>10</th>\n",
       "      <td>3</td>\n",
       "    </tr>\n",
       "    <tr>\n",
       "      <th>11</th>\n",
       "      <td>4</td>\n",
       "    </tr>\n",
       "  </tbody>\n",
       "</table>\n",
       "</div>"
      ],
      "text/plain": [
       "       n_upcs\n",
       "Visit        \n",
       "7           2\n",
       "8          20\n",
       "9           3\n",
       "10          3\n",
       "11          4"
      ]
     },
     "execution_count": 77,
     "metadata": {},
     "output_type": "execute_result"
    }
   ],
   "source": [
    "df_n_upcs = pd.DataFrame(train_grp['UPC'].nunique().values, \n",
    "                         columns=['n_upcs'], \n",
    "                         index=df_deps.index)\n",
    "df_n_upcs.head()"
   ]
  },
  {
   "cell_type": "markdown",
   "metadata": {},
   "source": [
    "> **NOTE:** The need for the _.values_ attribute is due to the index that is added to the Series due to the groupby operation."
   ]
  },
  {
   "cell_type": "markdown",
   "metadata": {},
   "source": [
    "### Weekday"
   ]
  },
  {
   "cell_type": "code",
   "execution_count": 78,
   "metadata": {
    "collapsed": false
   },
   "outputs": [
    {
     "data": {
      "text/html": [
       "<div>\n",
       "<table border=\"1\" class=\"dataframe\">\n",
       "  <thead>\n",
       "    <tr style=\"text-align: right;\">\n",
       "      <th></th>\n",
       "      <th>Weekday</th>\n",
       "    </tr>\n",
       "    <tr>\n",
       "      <th>Visit</th>\n",
       "      <th></th>\n",
       "    </tr>\n",
       "  </thead>\n",
       "  <tbody>\n",
       "    <tr>\n",
       "      <th>7</th>\n",
       "      <td>Friday</td>\n",
       "    </tr>\n",
       "    <tr>\n",
       "      <th>8</th>\n",
       "      <td>Friday</td>\n",
       "    </tr>\n",
       "    <tr>\n",
       "      <th>9</th>\n",
       "      <td>Friday</td>\n",
       "    </tr>\n",
       "    <tr>\n",
       "      <th>10</th>\n",
       "      <td>Friday</td>\n",
       "    </tr>\n",
       "    <tr>\n",
       "      <th>11</th>\n",
       "      <td>Friday</td>\n",
       "    </tr>\n",
       "  </tbody>\n",
       "</table>\n",
       "</div>"
      ],
      "text/plain": [
       "      Weekday\n",
       "Visit        \n",
       "7      Friday\n",
       "8      Friday\n",
       "9      Friday\n",
       "10     Friday\n",
       "11     Friday"
      ]
     },
     "execution_count": 78,
     "metadata": {},
     "output_type": "execute_result"
    }
   ],
   "source": [
    "df_weekday = pd.DataFrame(train_grp['Weekday'].min(), \n",
    "                          columns=['Weekday'], \n",
    "                          index=df_deps.index)\n",
    "df_weekday.head()"
   ]
  },
  {
   "cell_type": "code",
   "execution_count": 79,
   "metadata": {
    "collapsed": true
   },
   "outputs": [],
   "source": [
    "days = ['Monday', 'Tuesday', 'Wednesday', 'Thursday', \n",
    "        'Friday', 'Saturday', 'Sunday']\n",
    "df_weekday['Weekday'] = df_weekday['Weekday']\\\n",
    "    .astype('category', categories=days, ordered=True)"
   ]
  },
  {
   "cell_type": "markdown",
   "metadata": {},
   "source": [
    "### _TripType_"
   ]
  },
  {
   "cell_type": "code",
   "execution_count": 80,
   "metadata": {
    "collapsed": false
   },
   "outputs": [
    {
     "data": {
      "text/html": [
       "<div>\n",
       "<table border=\"1\" class=\"dataframe\">\n",
       "  <thead>\n",
       "    <tr style=\"text-align: right;\">\n",
       "      <th></th>\n",
       "      <th>TripType</th>\n",
       "    </tr>\n",
       "    <tr>\n",
       "      <th>Visit</th>\n",
       "      <th></th>\n",
       "    </tr>\n",
       "  </thead>\n",
       "  <tbody>\n",
       "    <tr>\n",
       "      <th>7</th>\n",
       "      <td>30</td>\n",
       "    </tr>\n",
       "    <tr>\n",
       "      <th>8</th>\n",
       "      <td>26</td>\n",
       "    </tr>\n",
       "    <tr>\n",
       "      <th>9</th>\n",
       "      <td>8</td>\n",
       "    </tr>\n",
       "    <tr>\n",
       "      <th>10</th>\n",
       "      <td>8</td>\n",
       "    </tr>\n",
       "    <tr>\n",
       "      <th>11</th>\n",
       "      <td>35</td>\n",
       "    </tr>\n",
       "  </tbody>\n",
       "</table>\n",
       "</div>"
      ],
      "text/plain": [
       "       TripType\n",
       "Visit          \n",
       "7            30\n",
       "8            26\n",
       "9             8\n",
       "10            8\n",
       "11           35"
      ]
     },
     "execution_count": 80,
     "metadata": {},
     "output_type": "execute_result"
    }
   ],
   "source": [
    "df_trip_type = pd.DataFrame(train_grp['TripType'].min(), \n",
    "                            columns=['TripType'], \n",
    "                            index=df_deps.index)\n",
    "df_trip_type.head()"
   ]
  },
  {
   "cell_type": "markdown",
   "metadata": {},
   "source": [
    "### Put it all together"
   ]
  },
  {
   "cell_type": "code",
   "execution_count": 81,
   "metadata": {
    "collapsed": false
   },
   "outputs": [
    {
     "data": {
      "text/html": [
       "<div>\n",
       "<table border=\"1\" class=\"dataframe\">\n",
       "  <thead>\n",
       "    <tr style=\"text-align: right;\">\n",
       "      <th></th>\n",
       "      <th>1-HR PHOTO</th>\n",
       "      <th>CAMERAS AND SUPPLIES</th>\n",
       "      <th>FINANCIAL SERVICES</th>\n",
       "      <th>HOUSEHOLD CHEMICALS/SUPP</th>\n",
       "      <th>LIQUOR,WINE,BEER</th>\n",
       "      <th>PERSONAL CARE</th>\n",
       "      <th>SERVICE DELI</th>\n",
       "      <th>n_upcs</th>\n",
       "    </tr>\n",
       "    <tr>\n",
       "      <th>Visit</th>\n",
       "      <th></th>\n",
       "      <th></th>\n",
       "      <th></th>\n",
       "      <th></th>\n",
       "      <th></th>\n",
       "      <th></th>\n",
       "      <th></th>\n",
       "      <th></th>\n",
       "    </tr>\n",
       "  </thead>\n",
       "  <tbody>\n",
       "    <tr>\n",
       "      <th>7</th>\n",
       "      <td>0</td>\n",
       "      <td>0</td>\n",
       "      <td>0</td>\n",
       "      <td>0</td>\n",
       "      <td>0</td>\n",
       "      <td>1</td>\n",
       "      <td>0</td>\n",
       "      <td>2</td>\n",
       "    </tr>\n",
       "    <tr>\n",
       "      <th>8</th>\n",
       "      <td>0</td>\n",
       "      <td>0</td>\n",
       "      <td>0</td>\n",
       "      <td>1</td>\n",
       "      <td>0</td>\n",
       "      <td>0</td>\n",
       "      <td>0</td>\n",
       "      <td>20</td>\n",
       "    </tr>\n",
       "    <tr>\n",
       "      <th>9</th>\n",
       "      <td>0</td>\n",
       "      <td>0</td>\n",
       "      <td>0</td>\n",
       "      <td>0</td>\n",
       "      <td>0</td>\n",
       "      <td>0</td>\n",
       "      <td>0</td>\n",
       "      <td>3</td>\n",
       "    </tr>\n",
       "    <tr>\n",
       "      <th>10</th>\n",
       "      <td>0</td>\n",
       "      <td>0</td>\n",
       "      <td>0</td>\n",
       "      <td>0</td>\n",
       "      <td>0</td>\n",
       "      <td>0</td>\n",
       "      <td>0</td>\n",
       "      <td>3</td>\n",
       "    </tr>\n",
       "    <tr>\n",
       "      <th>11</th>\n",
       "      <td>0</td>\n",
       "      <td>0</td>\n",
       "      <td>0</td>\n",
       "      <td>0</td>\n",
       "      <td>0</td>\n",
       "      <td>0</td>\n",
       "      <td>0</td>\n",
       "      <td>4</td>\n",
       "    </tr>\n",
       "  </tbody>\n",
       "</table>\n",
       "</div>"
      ],
      "text/plain": [
       "       1-HR PHOTO  CAMERAS AND SUPPLIES  FINANCIAL SERVICES   ...    PERSONAL CARE  SERVICE DELI  n_upcs\n",
       "Visit                                                         ...                                       \n",
       "7               0                     0                   0   ...                1             0       2\n",
       "8               0                     0                   0   ...                0             0      20\n",
       "9               0                     0                   0   ...                0             0       3\n",
       "10              0                     0                   0   ...                0             0       3\n",
       "11              0                     0                   0   ...                0             0       4\n",
       "\n",
       "[5 rows x 8 columns]"
      ]
     },
     "execution_count": 81,
     "metadata": {},
     "output_type": "execute_result"
    }
   ],
   "source": [
    "data = pd.concat((df_deps, df_n_deps, df_n_items, \n",
    "                  df_n_upcs, df_weekday, df_trip_type), \n",
    "                 axis=1)\n",
    "data.head().iloc[:, ::10]"
   ]
  },
  {
   "cell_type": "markdown",
   "metadata": {},
   "source": [
    "### Export the result"
   ]
  },
  {
   "cell_type": "code",
   "execution_count": 82,
   "metadata": {
    "collapsed": true
   },
   "outputs": [],
   "source": [
    "data.to_csv(getcwd() + \"\\\\triptype final data.csv\")"
   ]
  }
 ],
 "metadata": {
  "anaconda-cloud": {},
  "kernelspec": {
   "display_name": "Python [default]",
   "language": "python",
   "name": "python2"
  },
  "language_info": {
   "codemirror_mode": {
    "name": "ipython",
    "version": 2
   },
   "file_extension": ".py",
   "mimetype": "text/x-python",
   "name": "python",
   "nbconvert_exporter": "python",
   "pygments_lexer": "ipython2",
   "version": "2.7.11"
  }
 },
 "nbformat": 4,
 "nbformat_minor": 0
}
