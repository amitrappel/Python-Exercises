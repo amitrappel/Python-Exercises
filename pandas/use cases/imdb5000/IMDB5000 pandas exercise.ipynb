{
 "cells": [
  {
   "cell_type": "code",
   "execution_count": 12,
   "metadata": {
    "collapsed": true
   },
   "outputs": [],
   "source": [
    "import pandas as pd\n",
    "%matplotlib inline"
   ]
  },
  {
   "cell_type": "markdown",
   "metadata": {},
   "source": [
    "# Preliminaries"
   ]
  },
  {
   "cell_type": "markdown",
   "metadata": {},
   "source": [
    "## Question 1"
   ]
  },
  {
   "cell_type": "markdown",
   "metadata": {},
   "source": [
    "Import the file 'imdb.csv' as a dataframe. The index should be the names of the movies."
   ]
  },
  {
   "cell_type": "markdown",
   "metadata": {},
   "source": [
    "> **NOTE:** The names of the movies end with the unicode character \\\\xa0, which we would like to remove. To do that you should use the argument _encoding='utf-8-sig'_ and replace it with an empty string (explained [here][1]).\n",
    "\n",
    "[1]: https://stackoverflow.com/questions/10993612/python-removing-xa0-from-string \"reindex\""
   ]
  },
  {
   "cell_type": "code",
   "execution_count": 30,
   "metadata": {},
   "outputs": [
    {
     "data": {
      "text/plain": [
       "5043"
      ]
     },
     "execution_count": 30,
     "metadata": {},
     "output_type": "execute_result"
    }
   ],
   "source": [
    "imdb = pd.read_csv('movie_metadata.csv', index_col='movie_title', encoding='utf-8-sig')\n",
    "imdb.set_index(imdb.index.str.replace(u'\\xa0', u''), inplace=True)\n",
    "len(imdb)"
   ]
  },
  {
   "cell_type": "markdown",
   "metadata": {},
   "source": [
    "## Question 2"
   ]
  },
  {
   "cell_type": "markdown",
   "metadata": {},
   "source": [
    "Remove duplicate records."
   ]
  },
  {
   "cell_type": "code",
   "execution_count": 31,
   "metadata": {},
   "outputs": [
    {
     "data": {
      "text/plain": [
       "4998"
      ]
     },
     "execution_count": 31,
     "metadata": {},
     "output_type": "execute_result"
    }
   ],
   "source": [
    "imdb.drop_duplicates(inplace=True)\n",
    "len(imdb)"
   ]
  },
  {
   "cell_type": "markdown",
   "metadata": {},
   "source": [
    "## Question 3"
   ]
  },
  {
   "cell_type": "markdown",
   "metadata": {},
   "source": [
    "Remove directors with less than two movies."
   ]
  },
  {
   "cell_type": "markdown",
   "metadata": {},
   "source": [
    "### Solution I"
   ]
  },
  {
   "cell_type": "code",
   "execution_count": 32,
   "metadata": {},
   "outputs": [
    {
     "data": {
      "text/plain": [
       "3382"
      ]
     },
     "execution_count": 32,
     "metadata": {},
     "output_type": "execute_result"
    }
   ],
   "source": [
    "imdb = imdb.groupby('director_name').filter(lambda grp: len(grp) > 1)\n",
    "len(imdb)"
   ]
  },
  {
   "cell_type": "markdown",
   "metadata": {},
   "source": [
    "### Solution II"
   ]
  },
  {
   "cell_type": "code",
   "execution_count": 5,
   "metadata": {},
   "outputs": [
    {
     "data": {
      "text/plain": [
       "3382"
      ]
     },
     "execution_count": 5,
     "metadata": {},
     "output_type": "execute_result"
    }
   ],
   "source": [
    "dir_count = imdb.director_name.value_counts()\n",
    "good_dirs = dir_count[dir_count > 1].index\n",
    "imdb = imdb[imdb.director_name.isin(good_dirs)]\n",
    "len(imdb)"
   ]
  },
  {
   "cell_type": "markdown",
   "metadata": {},
   "source": [
    "## Question 4"
   ]
  },
  {
   "cell_type": "code",
   "execution_count": 33,
   "metadata": {},
   "outputs": [
    {
     "data": {
      "text/plain": [
       "3375"
      ]
     },
     "execution_count": 33,
     "metadata": {},
     "output_type": "execute_result"
    }
   ],
   "source": [
    "imdb = imdb[imdb.actor_3_name.notnull()]\n",
    "len(imdb)"
   ]
  },
  {
   "cell_type": "markdown",
   "metadata": {},
   "source": [
    "# Warm-up questions"
   ]
  },
  {
   "cell_type": "markdown",
   "metadata": {},
   "source": [
    "## Question 1"
   ]
  },
  {
   "cell_type": "markdown",
   "metadata": {},
   "source": [
    "How many languages are represented?"
   ]
  },
  {
   "cell_type": "code",
   "execution_count": 7,
   "metadata": {},
   "outputs": [
    {
     "data": {
      "text/plain": [
       "28"
      ]
     },
     "execution_count": 7,
     "metadata": {},
     "output_type": "execute_result"
    }
   ],
   "source": [
    "imdb.language.nunique()"
   ]
  },
  {
   "cell_type": "markdown",
   "metadata": {},
   "source": [
    "## Question 2"
   ]
  },
  {
   "cell_type": "markdown",
   "metadata": {},
   "source": [
    "What is the oldest movie?"
   ]
  },
  {
   "cell_type": "code",
   "execution_count": 43,
   "metadata": {},
   "outputs": [
    {
     "data": {
      "text/plain": [
       "color                                                          Black and White\n",
       "director_name                                                       King Vidor\n",
       "num_critic_for_reviews                                                      48\n",
       "duration                                                                   151\n",
       "director_facebook_likes                                                     54\n",
       "actor_3_facebook_likes                                                       6\n",
       "actor_2_name                                                      Renée Adorée\n",
       "actor_1_facebook_likes                                                      81\n",
       "gross                                                                      NaN\n",
       "genres                                                       Drama|Romance|War\n",
       "actor_1_name                                                      John Gilbert\n",
       "num_voted_users                                                           4849\n",
       "cast_total_facebook_likes                                                  108\n",
       "actor_3_name                                                      Claire Adams\n",
       "facenumber_in_poster                                                         0\n",
       "plot_keywords                chewing gum|climbing a tree|france|translation...\n",
       "movie_imdb_link              http://www.imdb.com/title/tt0015624/?ref_=fn_t...\n",
       "num_user_for_reviews                                                        45\n",
       "language                                                                   NaN\n",
       "country                                                                    USA\n",
       "content_rating                                                       Not Rated\n",
       "budget                                                                  245000\n",
       "title_year                                                                1925\n",
       "actor_2_facebook_likes                                                      12\n",
       "imdb_score                                                                 8.3\n",
       "aspect_ratio                                                              1.33\n",
       "movie_facebook_likes                                                       226\n",
       "Name: The Big Parade, dtype: object"
      ]
     },
     "execution_count": 43,
     "metadata": {},
     "output_type": "execute_result"
    }
   ],
   "source": [
    "imdb.loc[imdb.title_year.argmin()]"
   ]
  },
  {
   "cell_type": "markdown",
   "metadata": {},
   "source": [
    "## Question 3"
   ]
  },
  {
   "cell_type": "markdown",
   "metadata": {},
   "source": [
    "Who is the director with the highest average imdb score?"
   ]
  },
  {
   "cell_type": "code",
   "execution_count": 51,
   "metadata": {},
   "outputs": [
    {
     "data": {
      "text/plain": [
       "u'Sergio Leone'"
      ]
     },
     "execution_count": 51,
     "metadata": {},
     "output_type": "execute_result"
    }
   ],
   "source": [
    "imdb.groupby('director_name')['imdb_score'].mean().argmax()"
   ]
  },
  {
   "cell_type": "markdown",
   "metadata": {},
   "source": [
    "## Question 4"
   ]
  },
  {
   "cell_type": "code",
   "execution_count": 52,
   "metadata": {
    "collapsed": true
   },
   "outputs": [],
   "source": [
    "imdb['profit'] = imdb['gross'] - imdb['budget']"
   ]
  },
  {
   "cell_type": "code",
   "execution_count": 53,
   "metadata": {},
   "outputs": [
    {
     "data": {
      "text/html": [
       "<div>\n",
       "<style>\n",
       "    .dataframe thead tr:only-child th {\n",
       "        text-align: right;\n",
       "    }\n",
       "\n",
       "    .dataframe thead th {\n",
       "        text-align: left;\n",
       "    }\n",
       "\n",
       "    .dataframe tbody tr th {\n",
       "        vertical-align: top;\n",
       "    }\n",
       "</style>\n",
       "<table border=\"1\" class=\"dataframe\">\n",
       "  <thead>\n",
       "    <tr style=\"text-align: right;\">\n",
       "      <th></th>\n",
       "      <th>color</th>\n",
       "      <th>director_name</th>\n",
       "      <th>num_critic_for_reviews</th>\n",
       "      <th>duration</th>\n",
       "      <th>director_facebook_likes</th>\n",
       "      <th>actor_3_facebook_likes</th>\n",
       "      <th>actor_2_name</th>\n",
       "      <th>actor_1_facebook_likes</th>\n",
       "      <th>gross</th>\n",
       "      <th>genres</th>\n",
       "      <th>...</th>\n",
       "      <th>language</th>\n",
       "      <th>country</th>\n",
       "      <th>content_rating</th>\n",
       "      <th>budget</th>\n",
       "      <th>title_year</th>\n",
       "      <th>actor_2_facebook_likes</th>\n",
       "      <th>imdb_score</th>\n",
       "      <th>aspect_ratio</th>\n",
       "      <th>movie_facebook_likes</th>\n",
       "      <th>profit</th>\n",
       "    </tr>\n",
       "    <tr>\n",
       "      <th>movie_title</th>\n",
       "      <th></th>\n",
       "      <th></th>\n",
       "      <th></th>\n",
       "      <th></th>\n",
       "      <th></th>\n",
       "      <th></th>\n",
       "      <th></th>\n",
       "      <th></th>\n",
       "      <th></th>\n",
       "      <th></th>\n",
       "      <th></th>\n",
       "      <th></th>\n",
       "      <th></th>\n",
       "      <th></th>\n",
       "      <th></th>\n",
       "      <th></th>\n",
       "      <th></th>\n",
       "      <th></th>\n",
       "      <th></th>\n",
       "      <th></th>\n",
       "      <th></th>\n",
       "    </tr>\n",
       "  </thead>\n",
       "  <tbody>\n",
       "    <tr>\n",
       "      <th>Avatar</th>\n",
       "      <td>Color</td>\n",
       "      <td>James Cameron</td>\n",
       "      <td>723.0</td>\n",
       "      <td>178.0</td>\n",
       "      <td>0.0</td>\n",
       "      <td>855.0</td>\n",
       "      <td>Joel David Moore</td>\n",
       "      <td>1000.0</td>\n",
       "      <td>760505847.0</td>\n",
       "      <td>Action|Adventure|Fantasy|Sci-Fi</td>\n",
       "      <td>...</td>\n",
       "      <td>English</td>\n",
       "      <td>USA</td>\n",
       "      <td>PG-13</td>\n",
       "      <td>237000000.0</td>\n",
       "      <td>2009.0</td>\n",
       "      <td>936.0</td>\n",
       "      <td>7.9</td>\n",
       "      <td>1.78</td>\n",
       "      <td>33000</td>\n",
       "      <td>523505847.0</td>\n",
       "    </tr>\n",
       "    <tr>\n",
       "      <th>Pirates of the Caribbean: At World's End</th>\n",
       "      <td>Color</td>\n",
       "      <td>Gore Verbinski</td>\n",
       "      <td>302.0</td>\n",
       "      <td>169.0</td>\n",
       "      <td>563.0</td>\n",
       "      <td>1000.0</td>\n",
       "      <td>Orlando Bloom</td>\n",
       "      <td>40000.0</td>\n",
       "      <td>309404152.0</td>\n",
       "      <td>Action|Adventure|Fantasy</td>\n",
       "      <td>...</td>\n",
       "      <td>English</td>\n",
       "      <td>USA</td>\n",
       "      <td>PG-13</td>\n",
       "      <td>300000000.0</td>\n",
       "      <td>2007.0</td>\n",
       "      <td>5000.0</td>\n",
       "      <td>7.1</td>\n",
       "      <td>2.35</td>\n",
       "      <td>0</td>\n",
       "      <td>9404152.0</td>\n",
       "    </tr>\n",
       "    <tr>\n",
       "      <th>Spectre</th>\n",
       "      <td>Color</td>\n",
       "      <td>Sam Mendes</td>\n",
       "      <td>602.0</td>\n",
       "      <td>148.0</td>\n",
       "      <td>0.0</td>\n",
       "      <td>161.0</td>\n",
       "      <td>Rory Kinnear</td>\n",
       "      <td>11000.0</td>\n",
       "      <td>200074175.0</td>\n",
       "      <td>Action|Adventure|Thriller</td>\n",
       "      <td>...</td>\n",
       "      <td>English</td>\n",
       "      <td>UK</td>\n",
       "      <td>PG-13</td>\n",
       "      <td>245000000.0</td>\n",
       "      <td>2015.0</td>\n",
       "      <td>393.0</td>\n",
       "      <td>6.8</td>\n",
       "      <td>2.35</td>\n",
       "      <td>85000</td>\n",
       "      <td>-44925825.0</td>\n",
       "    </tr>\n",
       "    <tr>\n",
       "      <th>The Dark Knight Rises</th>\n",
       "      <td>Color</td>\n",
       "      <td>Christopher Nolan</td>\n",
       "      <td>813.0</td>\n",
       "      <td>164.0</td>\n",
       "      <td>22000.0</td>\n",
       "      <td>23000.0</td>\n",
       "      <td>Christian Bale</td>\n",
       "      <td>27000.0</td>\n",
       "      <td>448130642.0</td>\n",
       "      <td>Action|Thriller</td>\n",
       "      <td>...</td>\n",
       "      <td>English</td>\n",
       "      <td>USA</td>\n",
       "      <td>PG-13</td>\n",
       "      <td>250000000.0</td>\n",
       "      <td>2012.0</td>\n",
       "      <td>23000.0</td>\n",
       "      <td>8.5</td>\n",
       "      <td>2.35</td>\n",
       "      <td>164000</td>\n",
       "      <td>198130642.0</td>\n",
       "    </tr>\n",
       "    <tr>\n",
       "      <th>John Carter</th>\n",
       "      <td>Color</td>\n",
       "      <td>Andrew Stanton</td>\n",
       "      <td>462.0</td>\n",
       "      <td>132.0</td>\n",
       "      <td>475.0</td>\n",
       "      <td>530.0</td>\n",
       "      <td>Samantha Morton</td>\n",
       "      <td>640.0</td>\n",
       "      <td>73058679.0</td>\n",
       "      <td>Action|Adventure|Sci-Fi</td>\n",
       "      <td>...</td>\n",
       "      <td>English</td>\n",
       "      <td>USA</td>\n",
       "      <td>PG-13</td>\n",
       "      <td>263700000.0</td>\n",
       "      <td>2012.0</td>\n",
       "      <td>632.0</td>\n",
       "      <td>6.6</td>\n",
       "      <td>2.35</td>\n",
       "      <td>24000</td>\n",
       "      <td>-190641321.0</td>\n",
       "    </tr>\n",
       "  </tbody>\n",
       "</table>\n",
       "<p>5 rows × 28 columns</p>\n",
       "</div>"
      ],
      "text/plain": [
       "                                          color      director_name  \\\n",
       "movie_title                                                          \n",
       "Avatar                                    Color      James Cameron   \n",
       "Pirates of the Caribbean: At World's End  Color     Gore Verbinski   \n",
       "Spectre                                   Color         Sam Mendes   \n",
       "The Dark Knight Rises                     Color  Christopher Nolan   \n",
       "John Carter                               Color     Andrew Stanton   \n",
       "\n",
       "                                          num_critic_for_reviews  duration  \\\n",
       "movie_title                                                                  \n",
       "Avatar                                                     723.0     178.0   \n",
       "Pirates of the Caribbean: At World's End                   302.0     169.0   \n",
       "Spectre                                                    602.0     148.0   \n",
       "The Dark Knight Rises                                      813.0     164.0   \n",
       "John Carter                                                462.0     132.0   \n",
       "\n",
       "                                          director_facebook_likes  \\\n",
       "movie_title                                                         \n",
       "Avatar                                                        0.0   \n",
       "Pirates of the Caribbean: At World's End                    563.0   \n",
       "Spectre                                                       0.0   \n",
       "The Dark Knight Rises                                     22000.0   \n",
       "John Carter                                                 475.0   \n",
       "\n",
       "                                          actor_3_facebook_likes  \\\n",
       "movie_title                                                        \n",
       "Avatar                                                     855.0   \n",
       "Pirates of the Caribbean: At World's End                  1000.0   \n",
       "Spectre                                                    161.0   \n",
       "The Dark Knight Rises                                    23000.0   \n",
       "John Carter                                                530.0   \n",
       "\n",
       "                                              actor_2_name  \\\n",
       "movie_title                                                  \n",
       "Avatar                                    Joel David Moore   \n",
       "Pirates of the Caribbean: At World's End     Orlando Bloom   \n",
       "Spectre                                       Rory Kinnear   \n",
       "The Dark Knight Rises                       Christian Bale   \n",
       "John Carter                                Samantha Morton   \n",
       "\n",
       "                                          actor_1_facebook_likes        gross  \\\n",
       "movie_title                                                                     \n",
       "Avatar                                                    1000.0  760505847.0   \n",
       "Pirates of the Caribbean: At World's End                 40000.0  309404152.0   \n",
       "Spectre                                                  11000.0  200074175.0   \n",
       "The Dark Knight Rises                                    27000.0  448130642.0   \n",
       "John Carter                                                640.0   73058679.0   \n",
       "\n",
       "                                                                   genres  \\\n",
       "movie_title                                                                 \n",
       "Avatar                                    Action|Adventure|Fantasy|Sci-Fi   \n",
       "Pirates of the Caribbean: At World's End         Action|Adventure|Fantasy   \n",
       "Spectre                                         Action|Adventure|Thriller   \n",
       "The Dark Knight Rises                                     Action|Thriller   \n",
       "John Carter                                       Action|Adventure|Sci-Fi   \n",
       "\n",
       "                                             ...      language  country  \\\n",
       "movie_title                                  ...                          \n",
       "Avatar                                       ...       English      USA   \n",
       "Pirates of the Caribbean: At World's End     ...       English      USA   \n",
       "Spectre                                      ...       English       UK   \n",
       "The Dark Knight Rises                        ...       English      USA   \n",
       "John Carter                                  ...       English      USA   \n",
       "\n",
       "                                          content_rating       budget  \\\n",
       "movie_title                                                             \n",
       "Avatar                                             PG-13  237000000.0   \n",
       "Pirates of the Caribbean: At World's End           PG-13  300000000.0   \n",
       "Spectre                                            PG-13  245000000.0   \n",
       "The Dark Knight Rises                              PG-13  250000000.0   \n",
       "John Carter                                        PG-13  263700000.0   \n",
       "\n",
       "                                          title_year actor_2_facebook_likes  \\\n",
       "movie_title                                                                   \n",
       "Avatar                                        2009.0                  936.0   \n",
       "Pirates of the Caribbean: At World's End      2007.0                 5000.0   \n",
       "Spectre                                       2015.0                  393.0   \n",
       "The Dark Knight Rises                         2012.0                23000.0   \n",
       "John Carter                                   2012.0                  632.0   \n",
       "\n",
       "                                         imdb_score  aspect_ratio  \\\n",
       "movie_title                                                         \n",
       "Avatar                                          7.9          1.78   \n",
       "Pirates of the Caribbean: At World's End        7.1          2.35   \n",
       "Spectre                                         6.8          2.35   \n",
       "The Dark Knight Rises                           8.5          2.35   \n",
       "John Carter                                     6.6          2.35   \n",
       "\n",
       "                                         movie_facebook_likes       profit  \n",
       "movie_title                                                                 \n",
       "Avatar                                                  33000  523505847.0  \n",
       "Pirates of the Caribbean: At World's End                    0    9404152.0  \n",
       "Spectre                                                 85000  -44925825.0  \n",
       "The Dark Knight Rises                                  164000  198130642.0  \n",
       "John Carter                                             24000 -190641321.0  \n",
       "\n",
       "[5 rows x 28 columns]"
      ]
     },
     "execution_count": 53,
     "metadata": {},
     "output_type": "execute_result"
    }
   ],
   "source": [
    "imdb.head()"
   ]
  },
  {
   "cell_type": "code",
   "execution_count": 61,
   "metadata": {},
   "outputs": [
    {
     "data": {
      "text/plain": [
       "u'Steven Spielberg'"
      ]
     },
     "execution_count": 61,
     "metadata": {},
     "output_type": "execute_result"
    }
   ],
   "source": [
    "imdb.groupby('director_name')['profit'].sum().argmax()"
   ]
  },
  {
   "cell_type": "markdown",
   "metadata": {},
   "source": [
    "Add a column called ‘profits’ with gross-budget and answer:\n",
    "* What is the most profitable movie and what is the biggest failure?\n",
    "* Who is the most profitable director?"
   ]
  },
  {
   "cell_type": "code",
   "execution_count": 10,
   "metadata": {},
   "outputs": [
    {
     "data": {
      "text/plain": [
       "(u'Avatar', u'The Host')"
      ]
     },
     "execution_count": 10,
     "metadata": {},
     "output_type": "execute_result"
    }
   ],
   "source": [
    "imdb['profit'] = imdb['gross'] - imdb['budget']\n",
    "imdb['profit'].argmax(), imdb['profit'].argmin()"
   ]
  },
  {
   "cell_type": "code",
   "execution_count": 11,
   "metadata": {},
   "outputs": [
    {
     "data": {
      "text/plain": [
       "u'Steven Spielberg'"
      ]
     },
     "execution_count": 11,
     "metadata": {},
     "output_type": "execute_result"
    }
   ],
   "source": [
    "imdb.groupby('director_name')['profit'].sum().argmax()"
   ]
  },
  {
   "cell_type": "markdown",
   "metadata": {},
   "source": [
    "# Simple questions"
   ]
  },
  {
   "cell_type": "markdown",
   "metadata": {},
   "source": [
    "## Question 1"
   ]
  },
  {
   "cell_type": "markdown",
   "metadata": {},
   "source": [
    "What was the total budget spent on production every year? Visualize it."
   ]
  },
  {
   "cell_type": "code",
   "execution_count": 63,
   "metadata": {},
   "outputs": [
    {
     "data": {
      "text/plain": [
       "<matplotlib.axes._subplots.AxesSubplot at 0xef2bbe0>"
      ]
     },
     "execution_count": 63,
     "metadata": {},
     "output_type": "execute_result"
    },
    {
     "data": {
      "image/png": "[encoded data removed]",
      "text/plain": [
       "<matplotlib.figure.Figure at 0xeef5828>"
      ]
     },
     "metadata": {},
     "output_type": "display_data"
    }
   ],
   "source": [
    "imdb.groupby('title_year')['budget'].sum().plot()"
   ]
  },
  {
   "cell_type": "markdown",
   "metadata": {},
   "source": [
    "## Question 2"
   ]
  },
  {
   "cell_type": "markdown",
   "metadata": {},
   "source": [
    "Create a dataframe with the directors as index and with two columns - 'average duration' and 'movie count'."
   ]
  },
  {
   "cell_type": "code",
   "execution_count": 64,
   "metadata": {
    "collapsed": true
   },
   "outputs": [],
   "source": [
    "grp_dir = imdb.groupby('director_name')"
   ]
  },
  {
   "cell_type": "code",
   "execution_count": null,
   "metadata": {
    "collapsed": true
   },
   "outputs": [],
   "source": []
  },
  {
   "cell_type": "code",
   "execution_count": 68,
   "metadata": {},
   "outputs": [
    {
     "data": {
      "text/plain": [
       "director_name\n",
       "Ron Maxwell             275.500000\n",
       "Michael Cimino          254.000000\n",
       "Stanley Kramer          191.500000\n",
       "David Lean              188.000000\n",
       "Billy Bob Thornton      184.000000\n",
       "Kevin Costner           184.000000\n",
       "Yash Chopra             184.000000\n",
       "Peter Jackson           170.666667\n",
       "Richard Attenborough    169.250000\n",
       "Taylor Hackford         169.000000\n",
       "Akira Kurosawa          168.000000\n",
       "Bernardo Bertolucci     162.500000\n",
       "Karan Johar             160.500000\n",
       "Sergio Leone            159.250000\n",
       "Philip Kaufman          158.500000\n",
       "James Cameron           156.857143\n",
       "Francis Ford Coppola    153.181818\n",
       "Frank Darabont          152.250000\n",
       "Wolfgang Petersen       151.714286\n",
       "Anthony Minghella       151.666667\n",
       "Victor Fleming          150.000000\n",
       "Stanley Kubrick         149.857143\n",
       "Terrence Malick         149.500000\n",
       "Shane Black             149.000000\n",
       "Kenneth Lonergan        148.500000\n",
       "Oliver Stone            148.428571\n",
       "Quentin Tarantino       148.000000\n",
       "Paul Thomas Anderson    148.000000\n",
       "Michael Bay             145.923077\n",
       "Mel Gibson              145.666667\n",
       "                           ...    \n",
       "David Zucker             86.200000\n",
       "Joe Swanberg             86.000000\n",
       "Jimmy Hayward            86.000000\n",
       "Peter Lord               86.000000\n",
       "Eric Bross               86.000000\n",
       "Jay Duplass              85.750000\n",
       "Don Bluth                85.666667\n",
       "Danny Leiner             85.500000\n",
       "Marcus Raboy             85.000000\n",
       "William Brent Bell       85.000000\n",
       "John A. Davis            85.000000\n",
       "Youssef Delara           84.000000\n",
       "Pawel Pawlikowski        84.000000\n",
       "Mike Nawrocki            83.500000\n",
       "David DeCoteau           83.500000\n",
       "Bruce McCulloch          83.000000\n",
       "Chris Kentis             82.500000\n",
       "Patrick Stettner         82.500000\n",
       "Craig Mazin              82.000000\n",
       "Leslie Small             82.000000\n",
       "Greg Harrison            82.000000\n",
       "Will Finn                82.000000\n",
       "Craig Moss               81.000000\n",
       "Bob Saget                81.000000\n",
       "Mark Dindal              78.000000\n",
       "Roger Allers             78.000000\n",
       "Randall Miller           72.000000\n",
       "James Algar              72.000000\n",
       "Robert Greenwald         47.500000\n",
       "Matt Birch                     NaN\n",
       "Name: duration, Length: 885, dtype: float64"
      ]
     },
     "execution_count": 68,
     "metadata": {},
     "output_type": "execute_result"
    }
   ],
   "source": [
    "grp_dir['duration'].mean().sort_values(ascending=False)"
   ]
  },
  {
   "cell_type": "code",
   "execution_count": null,
   "metadata": {
    "collapsed": true
   },
   "outputs": [],
   "source": []
  },
  {
   "cell_type": "markdown",
   "metadata": {},
   "source": [
    "### Solution I"
   ]
  },
  {
   "cell_type": "markdown",
   "metadata": {},
   "source": [
    "Combining two Series objects."
   ]
  },
  {
   "cell_type": "code",
   "execution_count": 69,
   "metadata": {},
   "outputs": [
    {
     "data": {
      "text/html": [
       "<div>\n",
       "<style>\n",
       "    .dataframe thead tr:only-child th {\n",
       "        text-align: right;\n",
       "    }\n",
       "\n",
       "    .dataframe thead th {\n",
       "        text-align: left;\n",
       "    }\n",
       "\n",
       "    .dataframe tbody tr th {\n",
       "        vertical-align: top;\n",
       "    }\n",
       "</style>\n",
       "<table border=\"1\" class=\"dataframe\">\n",
       "  <thead>\n",
       "    <tr style=\"text-align: right;\">\n",
       "      <th></th>\n",
       "      <th>average duration</th>\n",
       "      <th>movie count</th>\n",
       "    </tr>\n",
       "    <tr>\n",
       "      <th>director_name</th>\n",
       "      <th></th>\n",
       "      <th></th>\n",
       "    </tr>\n",
       "  </thead>\n",
       "  <tbody>\n",
       "    <tr>\n",
       "      <th>Adam McKay</th>\n",
       "      <td>119.166667</td>\n",
       "      <td>6</td>\n",
       "    </tr>\n",
       "    <tr>\n",
       "      <th>Adam Rifkin</th>\n",
       "      <td>95.000000</td>\n",
       "      <td>2</td>\n",
       "    </tr>\n",
       "    <tr>\n",
       "      <th>Adam Shankman</th>\n",
       "      <td>106.250000</td>\n",
       "      <td>8</td>\n",
       "    </tr>\n",
       "    <tr>\n",
       "      <th>Adrian Lyne</th>\n",
       "      <td>112.500000</td>\n",
       "      <td>4</td>\n",
       "    </tr>\n",
       "    <tr>\n",
       "      <th>Akira Kurosawa</th>\n",
       "      <td>168.000000</td>\n",
       "      <td>2</td>\n",
       "    </tr>\n",
       "  </tbody>\n",
       "</table>\n",
       "</div>"
      ],
      "text/plain": [
       "                average duration  movie count\n",
       "director_name                                \n",
       "Adam McKay            119.166667            6\n",
       "Adam Rifkin            95.000000            2\n",
       "Adam Shankman         106.250000            8\n",
       "Adrian Lyne           112.500000            4\n",
       "Akira Kurosawa        168.000000            2"
      ]
     },
     "execution_count": 69,
     "metadata": {},
     "output_type": "execute_result"
    }
   ],
   "source": [
    "average_duration = grp_dir['duration'].mean()\n",
    "movie_count = grp_dir['director_name'].count()\n",
    "df = pd.DataFrame({'average duration': average_duration, \n",
    "                   'movie count': movie_count})\n",
    "df.head()"
   ]
  },
  {
   "cell_type": "markdown",
   "metadata": {},
   "source": [
    "### Solution II"
   ]
  },
  {
   "cell_type": "markdown",
   "metadata": {},
   "source": [
    "Using the GroupBy.agg() method."
   ]
  },
  {
   "cell_type": "code",
   "execution_count": 71,
   "metadata": {},
   "outputs": [
    {
     "data": {
      "text/html": [
       "<div>\n",
       "<style>\n",
       "    .dataframe thead tr:only-child th {\n",
       "        text-align: right;\n",
       "    }\n",
       "\n",
       "    .dataframe thead th {\n",
       "        text-align: left;\n",
       "    }\n",
       "\n",
       "    .dataframe tbody tr th {\n",
       "        vertical-align: top;\n",
       "    }\n",
       "</style>\n",
       "<table border=\"1\" class=\"dataframe\">\n",
       "  <thead>\n",
       "    <tr style=\"text-align: right;\">\n",
       "      <th></th>\n",
       "      <th>duration</th>\n",
       "      <th>director_name</th>\n",
       "    </tr>\n",
       "    <tr>\n",
       "      <th>director_name</th>\n",
       "      <th></th>\n",
       "      <th></th>\n",
       "    </tr>\n",
       "  </thead>\n",
       "  <tbody>\n",
       "    <tr>\n",
       "      <th>Adam McKay</th>\n",
       "      <td>119.166667</td>\n",
       "      <td>6</td>\n",
       "    </tr>\n",
       "    <tr>\n",
       "      <th>Adam Rifkin</th>\n",
       "      <td>95.000000</td>\n",
       "      <td>2</td>\n",
       "    </tr>\n",
       "    <tr>\n",
       "      <th>Adam Shankman</th>\n",
       "      <td>106.250000</td>\n",
       "      <td>8</td>\n",
       "    </tr>\n",
       "    <tr>\n",
       "      <th>Adrian Lyne</th>\n",
       "      <td>112.500000</td>\n",
       "      <td>4</td>\n",
       "    </tr>\n",
       "    <tr>\n",
       "      <th>Akira Kurosawa</th>\n",
       "      <td>168.000000</td>\n",
       "      <td>2</td>\n",
       "    </tr>\n",
       "  </tbody>\n",
       "</table>\n",
       "</div>"
      ],
      "text/plain": [
       "                  duration  director_name\n",
       "director_name                            \n",
       "Adam McKay      119.166667              6\n",
       "Adam Rifkin      95.000000              2\n",
       "Adam Shankman   106.250000              8\n",
       "Adrian Lyne     112.500000              4\n",
       "Akira Kurosawa  168.000000              2"
      ]
     },
     "execution_count": 71,
     "metadata": {},
     "output_type": "execute_result"
    }
   ],
   "source": [
    "df = grp_dir.agg({'duration': 'mean', \n",
    "                  'director_name': 'count'})\n",
    "df.rename(columns={'duration': 'average duration', \n",
    "                   'director_name': 'movie count'}, \n",
    "          inplace=True)\n",
    "df.head()"
   ]
  },
  {
   "cell_type": "markdown",
   "metadata": {},
   "source": [
    "## Question 3"
   ]
  },
  {
   "cell_type": "markdown",
   "metadata": {},
   "source": [
    "How many unique actors are represented? Consider all three columns."
   ]
  },
  {
   "cell_type": "markdown",
   "metadata": {},
   "source": [
    "### Solution I"
   ]
  },
  {
   "cell_type": "markdown",
   "metadata": {},
   "source": [
    "Using _set()_"
   ]
  },
  {
   "cell_type": "code",
   "execution_count": 16,
   "metadata": {},
   "outputs": [
    {
     "data": {
      "text/plain": [
       "4121"
      ]
     },
     "execution_count": 16,
     "metadata": {},
     "output_type": "execute_result"
    }
   ],
   "source": [
    "len(set(imdb.actor_1_name) | set(imdb.actor_2_name) | set(imdb.actor_3_name))"
   ]
  },
  {
   "cell_type": "markdown",
   "metadata": {},
   "source": [
    "### Solution II"
   ]
  },
  {
   "cell_type": "markdown",
   "metadata": {},
   "source": [
    "Using _Series.nunique()_"
   ]
  },
  {
   "cell_type": "code",
   "execution_count": 17,
   "metadata": {},
   "outputs": [
    {
     "data": {
      "text/plain": [
       "4121"
      ]
     },
     "execution_count": 17,
     "metadata": {},
     "output_type": "execute_result"
    }
   ],
   "source": [
    "imdb.actor_1_name.append([imdb.actor_2_name, imdb.actor_3_name]).nunique()"
   ]
  },
  {
   "cell_type": "markdown",
   "metadata": {},
   "source": [
    "## Question 4"
   ]
  },
  {
   "cell_type": "markdown",
   "metadata": {},
   "source": [
    "**Part A -** How many movies were released every year? Visualize it. "
   ]
  },
  {
   "cell_type": "code",
   "execution_count": 73,
   "metadata": {},
   "outputs": [
    {
     "data": {
      "text/plain": [
       "<matplotlib.axes._subplots.AxesSubplot at 0xd191470>"
      ]
     },
     "execution_count": 73,
     "metadata": {},
     "output_type": "execute_result"
    },
    {
     "data": {
      "image/png": "[encoded data removed]",
      "text/plain": [
       "<matplotlib.figure.Figure at 0xfc61860>"
      ]
     },
     "metadata": {},
     "output_type": "display_data"
    }
   ],
   "source": [
    "imdb.groupby('title_year')['director_name'].count().plot()"
   ]
  },
  {
   "cell_type": "markdown",
   "metadata": {},
   "source": [
    "**Part B -** Next, separate the last graph into two plots (on the same graph) - one for color movies and one for B/W movies."
   ]
  },
  {
   "cell_type": "markdown",
   "metadata": {},
   "source": [
    "### Solution I"
   ]
  },
  {
   "cell_type": "markdown",
   "metadata": {},
   "source": [
    "Make the plots one by one with _Series.plot()_ and put them on a shared _Axes_ object"
   ]
  },
  {
   "cell_type": "code",
   "execution_count": 75,
   "metadata": {},
   "outputs": [
    {
     "data": {
      "text/plain": [
       "<matplotlib.axes._subplots.AxesSubplot at 0xfe7b630>"
      ]
     },
     "execution_count": 75,
     "metadata": {},
     "output_type": "execute_result"
    },
    {
     "data": {
      "image/png": "[encoded data removed]",
      "text/plain": [
       "<matplotlib.figure.Figure at 0xfd091d0>"
      ]
     },
     "metadata": {},
     "output_type": "display_data"
    }
   ],
   "source": [
    "imdb_color = imdb[imdb.color == 'Color']\n",
    "imdb_bw = imdb[imdb.color != 'Color']\n",
    "\n",
    "ax1 = imdb_color.groupby('title_year')['director_name'].count().plot()\n",
    "imdb_bw.groupby('title_year')['director_name'].count().plot(ax=ax1)"
   ]
  },
  {
   "cell_type": "markdown",
   "metadata": {},
   "source": [
    "### Solution II"
   ]
  },
  {
   "cell_type": "markdown",
   "metadata": {},
   "source": [
    "Using _MultiIndex_ and _DataFrame.unpack()_ to create the proper dataframe, and then using _DataFrame.plot()_."
   ]
  },
  {
   "cell_type": "code",
   "execution_count": 86,
   "metadata": {},
   "outputs": [
    {
     "data": {
      "text/plain": [
       "<matplotlib.axes._subplots.AxesSubplot at 0x10b18908>"
      ]
     },
     "execution_count": 86,
     "metadata": {},
     "output_type": "execute_result"
    },
    {
     "data": {
      "image/png": "[encoded data removed]",
      "text/plain": [
       "<matplotlib.figure.Figure at 0x10698ba8>"
      ]
     },
     "metadata": {},
     "output_type": "display_data"
    }
   ],
   "source": [
    "counts = imdb.groupby(['title_year', 'color'])['director_name'].count()\n",
    "counts.unstack(fill_value=0).plot()"
   ]
  },
  {
   "cell_type": "markdown",
   "metadata": {},
   "source": [
    "## Question 5"
   ]
  },
  {
   "cell_type": "markdown",
   "metadata": {},
   "source": [
    "**Part A -** Who is the most prolific director (namely the average number of movies per year is the highest)?"
   ]
  },
  {
   "cell_type": "code",
   "execution_count": 21,
   "metadata": {
    "collapsed": true
   },
   "outputs": [],
   "source": [
    "def f(grp):\n",
    "    return float(len(grp)) / (grp.title_year.max() - grp.title_year.min() + 1)"
   ]
  },
  {
   "cell_type": "code",
   "execution_count": 22,
   "metadata": {},
   "outputs": [
    {
     "data": {
      "text/plain": [
       "director_name\n",
       "Joel Edgerton        2.0\n",
       "Michael O. Sajbel    2.0\n",
       "Christian Alvart     2.0\n",
       "Richard Schenkman    2.0\n",
       "J.B. Rogers          2.0\n",
       "dtype: float64"
      ]
     },
     "execution_count": 22,
     "metadata": {},
     "output_type": "execute_result"
    }
   ],
   "source": [
    "imdb.groupby('director_name').apply(f).sort_values(ascending=False).head()"
   ]
  },
  {
   "cell_type": "markdown",
   "metadata": {},
   "source": [
    "**Part B -** Repeat the question, but consider only directors with more than 15 movies."
   ]
  },
  {
   "cell_type": "code",
   "execution_count": 23,
   "metadata": {},
   "outputs": [
    {
     "data": {
      "text/plain": [
       "director_name\n",
       "Steven Soderbergh    0.640000\n",
       "Steven Spielberg     0.619048\n",
       "Tim Burton           0.592593\n",
       "Spike Lee            0.551724\n",
       "Woody Allen          0.511628\n",
       "dtype: float64"
      ]
     },
     "execution_count": 23,
     "metadata": {},
     "output_type": "execute_result"
    }
   ],
   "source": [
    "imdb5 = imdb.groupby('director_name').filter(lambda grp: len(grp) > 15)\n",
    "imdb5.groupby('director_name').apply(f).sort_values(ascending=False).head()"
   ]
  },
  {
   "cell_type": "markdown",
   "metadata": {},
   "source": [
    "# Difficult questions"
   ]
  },
  {
   "cell_type": "markdown",
   "metadata": {},
   "source": [
    "## Question 1"
   ]
  },
  {
   "cell_type": "markdown",
   "metadata": {},
   "source": [
    "Which actor participated in the highest number of movies? Consider all three columns."
   ]
  },
  {
   "cell_type": "markdown",
   "metadata": {},
   "source": [
    "### Solution I"
   ]
  },
  {
   "cell_type": "markdown",
   "metadata": {},
   "source": [
    "Using _DataFrame.melt()_."
   ]
  },
  {
   "cell_type": "code",
   "execution_count": 26,
   "metadata": {},
   "outputs": [
    {
     "data": {
      "text/plain": [
       "Robert De Niro    45\n",
       "Morgan Freeman    41\n",
       "Johnny Depp       36\n",
       "Bruce Willis      35\n",
       "Matt Damon        33\n",
       "Name: value, dtype: int64"
      ]
     },
     "execution_count": 26,
     "metadata": {},
     "output_type": "execute_result"
    }
   ],
   "source": [
    "melted_actors = pd.melt(imdb, value_vars=['actor_1_name', 'actor_2_name', 'acor_3_name'])\n",
    "melted_actors['value'].value_counts().head()"
   ]
  },
  {
   "cell_type": "markdown",
   "metadata": {},
   "source": [
    "### Solution II"
   ]
  },
  {
   "cell_type": "markdown",
   "metadata": {},
   "source": [
    "Using _Series.add()_."
   ]
  },
  {
   "cell_type": "code",
   "execution_count": 28,
   "metadata": {
    "collapsed": true
   },
   "outputs": [],
   "source": [
    "actor1 = imdb.actor_1_name.value_counts()\n",
    "actor2 = imdb.actor_2_name.value_counts()\n",
    "actor3 = imdb.actor_3_name.value_counts()"
   ]
  },
  {
   "cell_type": "code",
   "execution_count": 32,
   "metadata": {},
   "outputs": [
    {
     "data": {
      "text/plain": [
       "Robert De Niro    45.0\n",
       "Morgan Freeman    43.0\n",
       "Johnny Depp       36.0\n",
       "Bruce Willis      36.0\n",
       "Matt Damon        34.0\n",
       "dtype: float64"
      ]
     },
     "execution_count": 32,
     "metadata": {},
     "output_type": "execute_result"
    }
   ],
   "source": [
    "actor1.add(actor2, fill_value=0).add(actor3, fill_value=0).sort_values(ascending=False).head()"
   ]
  },
  {
   "cell_type": "markdown",
   "metadata": {},
   "source": [
    "### Solution III"
   ]
  },
  {
   "cell_type": "markdown",
   "metadata": {},
   "source": [
    "Aligning Series objects using _Series.align()_."
   ]
  },
  {
   "cell_type": "code",
   "execution_count": 39,
   "metadata": {},
   "outputs": [
    {
     "data": {
      "text/plain": [
       "Robert De Niro    45.0\n",
       "Morgan Freeman    43.0\n",
       "Johnny Depp       36.0\n",
       "Bruce Willis      36.0\n",
       "Matt Damon        34.0\n",
       "dtype: float64"
      ]
     },
     "execution_count": 39,
     "metadata": {},
     "output_type": "execute_result"
    }
   ],
   "source": [
    "a1, a2 = actor1.align(actor2, fill_value=0)\n",
    "a1, a3 = a1.align(actor3, fill_value=0)\n",
    "a2, a3 = a2.align(actor3, fill_value=0)\n",
    "actors = a1 + a2 + a3\n",
    "actors.sort_values(ascending=False).head()"
   ]
  },
  {
   "cell_type": "markdown",
   "metadata": {},
   "source": [
    "### Solution IV"
   ]
  },
  {
   "cell_type": "markdown",
   "metadata": {},
   "source": [
    "Joining DataFrames using DataFrame.join()."
   ]
  },
  {
   "cell_type": "code",
   "execution_count": 40,
   "metadata": {},
   "outputs": [
    {
     "data": {
      "text/plain": [
       "Robert De Niro    45.0\n",
       "Morgan Freeman    43.0\n",
       "Johnny Depp       36.0\n",
       "Bruce Willis      36.0\n",
       "Matt Damon        34.0\n",
       "dtype: float64"
      ]
     },
     "execution_count": 40,
     "metadata": {},
     "output_type": "execute_result"
    }
   ],
   "source": [
    "a1 = actor1.to_frame()\n",
    "actors = a1.join(a2, how='outer').join(a3, how='outer')\n",
    "actors.sum(axis=1).sort_values(ascending=False).head()"
   ]
  },
  {
   "cell_type": "markdown",
   "metadata": {},
   "source": [
    "## Question 2"
   ]
  },
  {
   "cell_type": "markdown",
   "metadata": {},
   "source": [
    "How many movies are there of each genre? Visualize it."
   ]
  },
  {
   "cell_type": "markdown",
   "metadata": {},
   "source": [
    "> **NOTE:** A movie can be of multiple genres, so the count of genres is higher the count of movies."
   ]
  },
  {
   "cell_type": "markdown",
   "metadata": {},
   "source": [
    "### Solution I"
   ]
  },
  {
   "cell_type": "code",
   "execution_count": 41,
   "metadata": {},
   "outputs": [
    {
     "data": {
      "text/plain": [
       "<matplotlib.axes._subplots.AxesSubplot at 0xb6a4a20>"
      ]
     },
     "execution_count": 41,
     "metadata": {},
     "output_type": "execute_result"
    },
    {
     "data": {
      "image/png": "[encoded data removed]",
      "text/plain": [
       "<matplotlib.figure.Figure at 0xb6a46a0>"
      ]
     },
     "metadata": {},
     "output_type": "display_data"
    }
   ],
   "source": [
    "all_genres = pd.Series(imdb.genres.str.split('|').sum())\n",
    "all_genres.value_counts().plot.bar()"
   ]
  },
  {
   "cell_type": "markdown",
   "metadata": {},
   "source": [
    "### Solution II"
   ]
  },
  {
   "cell_type": "markdown",
   "metadata": {},
   "source": [
    "Using Series.str.split() with the _expend=True_ argument, and then using _DataFrame.stack()_ to create a single Series with all the genres."
   ]
  },
  {
   "cell_type": "code",
   "execution_count": 42,
   "metadata": {},
   "outputs": [
    {
     "data": {
      "text/plain": [
       "<matplotlib.axes._subplots.AxesSubplot at 0xb6a4b00>"
      ]
     },
     "execution_count": 42,
     "metadata": {},
     "output_type": "execute_result"
    },
    {
     "data": {
      "image/png": "[encoded data removed]",
      "text/plain": [
       "<matplotlib.figure.Figure at 0xb6a4cc0>"
      ]
     },
     "metadata": {},
     "output_type": "display_data"
    }
   ],
   "source": [
    "all_genres = imdb.genres.str.split('|', expand=True).stack()\n",
    "all_genres.value_counts().plot(kind='bar')"
   ]
  },
  {
   "cell_type": "markdown",
   "metadata": {},
   "source": [
    "### Solution III"
   ]
  },
  {
   "cell_type": "markdown",
   "metadata": {},
   "source": [
    "Using _Series.str.get_\\__dummies()_."
   ]
  },
  {
   "cell_type": "code",
   "execution_count": 85,
   "metadata": {},
   "outputs": [
    {
     "data": {
      "text/plain": [
       "<matplotlib.axes._subplots.AxesSubplot at 0xd960518>"
      ]
     },
     "execution_count": 85,
     "metadata": {},
     "output_type": "execute_result"
    },
    {
     "data": {
      "image/png": "[encoded data removed]",
      "text/plain": [
       "<matplotlib.figure.Figure at 0xd960588>"
      ]
     },
     "metadata": {},
     "output_type": "display_data"
    }
   ],
   "source": [
    "all_genres = imdb.genres.str.get_dummies('|').sum()\n",
    "all_genres.sort_values(ascending=False).plot(kind='bar')"
   ]
  },
  {
   "cell_type": "markdown",
   "metadata": {},
   "source": [
    "### Challenge"
   ]
  },
  {
   "cell_type": "markdown",
   "metadata": {},
   "source": [
    "How many movies are there of each genre **every year**? Visualize it."
   ]
  },
  {
   "cell_type": "code",
   "execution_count": 69,
   "metadata": {},
   "outputs": [
    {
     "data": {
      "text/html": [
       "<div>\n",
       "<table border=\"1\" class=\"dataframe\">\n",
       "  <thead>\n",
       "    <tr style=\"text-align: right;\">\n",
       "      <th></th>\n",
       "      <th>Action</th>\n",
       "      <th>Adventure</th>\n",
       "      <th>Animation</th>\n",
       "      <th>Biography</th>\n",
       "      <th>Comedy</th>\n",
       "      <th>Crime</th>\n",
       "      <th>Documentary</th>\n",
       "      <th>Drama</th>\n",
       "      <th>Family</th>\n",
       "      <th>Fantasy</th>\n",
       "      <th>...</th>\n",
       "      <th>Musical</th>\n",
       "      <th>Mystery</th>\n",
       "      <th>News</th>\n",
       "      <th>Romance</th>\n",
       "      <th>Sci-Fi</th>\n",
       "      <th>Short</th>\n",
       "      <th>Sport</th>\n",
       "      <th>Thriller</th>\n",
       "      <th>War</th>\n",
       "      <th>Western</th>\n",
       "    </tr>\n",
       "    <tr>\n",
       "      <th>title_year</th>\n",
       "      <th></th>\n",
       "      <th></th>\n",
       "      <th></th>\n",
       "      <th></th>\n",
       "      <th></th>\n",
       "      <th></th>\n",
       "      <th></th>\n",
       "      <th></th>\n",
       "      <th></th>\n",
       "      <th></th>\n",
       "      <th></th>\n",
       "      <th></th>\n",
       "      <th></th>\n",
       "      <th></th>\n",
       "      <th></th>\n",
       "      <th></th>\n",
       "      <th></th>\n",
       "      <th></th>\n",
       "      <th></th>\n",
       "      <th></th>\n",
       "      <th></th>\n",
       "    </tr>\n",
       "  </thead>\n",
       "  <tbody>\n",
       "    <tr>\n",
       "      <th>1925.0</th>\n",
       "      <td>0</td>\n",
       "      <td>0</td>\n",
       "      <td>0</td>\n",
       "      <td>0</td>\n",
       "      <td>0</td>\n",
       "      <td>0</td>\n",
       "      <td>0</td>\n",
       "      <td>1</td>\n",
       "      <td>0</td>\n",
       "      <td>0</td>\n",
       "      <td>...</td>\n",
       "      <td>0</td>\n",
       "      <td>0</td>\n",
       "      <td>0</td>\n",
       "      <td>1</td>\n",
       "      <td>0</td>\n",
       "      <td>0</td>\n",
       "      <td>0</td>\n",
       "      <td>0</td>\n",
       "      <td>1</td>\n",
       "      <td>0</td>\n",
       "    </tr>\n",
       "    <tr>\n",
       "      <th>1934.0</th>\n",
       "      <td>0</td>\n",
       "      <td>0</td>\n",
       "      <td>0</td>\n",
       "      <td>0</td>\n",
       "      <td>1</td>\n",
       "      <td>0</td>\n",
       "      <td>0</td>\n",
       "      <td>0</td>\n",
       "      <td>0</td>\n",
       "      <td>0</td>\n",
       "      <td>...</td>\n",
       "      <td>0</td>\n",
       "      <td>0</td>\n",
       "      <td>0</td>\n",
       "      <td>1</td>\n",
       "      <td>0</td>\n",
       "      <td>0</td>\n",
       "      <td>0</td>\n",
       "      <td>0</td>\n",
       "      <td>0</td>\n",
       "      <td>0</td>\n",
       "    </tr>\n",
       "    <tr>\n",
       "      <th>1936.0</th>\n",
       "      <td>1</td>\n",
       "      <td>1</td>\n",
       "      <td>0</td>\n",
       "      <td>0</td>\n",
       "      <td>0</td>\n",
       "      <td>0</td>\n",
       "      <td>0</td>\n",
       "      <td>0</td>\n",
       "      <td>0</td>\n",
       "      <td>0</td>\n",
       "      <td>...</td>\n",
       "      <td>0</td>\n",
       "      <td>0</td>\n",
       "      <td>0</td>\n",
       "      <td>1</td>\n",
       "      <td>0</td>\n",
       "      <td>0</td>\n",
       "      <td>0</td>\n",
       "      <td>0</td>\n",
       "      <td>1</td>\n",
       "      <td>0</td>\n",
       "    </tr>\n",
       "    <tr>\n",
       "      <th>1938.0</th>\n",
       "      <td>0</td>\n",
       "      <td>0</td>\n",
       "      <td>0</td>\n",
       "      <td>0</td>\n",
       "      <td>1</td>\n",
       "      <td>0</td>\n",
       "      <td>0</td>\n",
       "      <td>1</td>\n",
       "      <td>0</td>\n",
       "      <td>0</td>\n",
       "      <td>...</td>\n",
       "      <td>0</td>\n",
       "      <td>0</td>\n",
       "      <td>0</td>\n",
       "      <td>1</td>\n",
       "      <td>0</td>\n",
       "      <td>0</td>\n",
       "      <td>0</td>\n",
       "      <td>0</td>\n",
       "      <td>0</td>\n",
       "      <td>0</td>\n",
       "    </tr>\n",
       "    <tr>\n",
       "      <th>1939.0</th>\n",
       "      <td>0</td>\n",
       "      <td>1</td>\n",
       "      <td>0</td>\n",
       "      <td>0</td>\n",
       "      <td>1</td>\n",
       "      <td>0</td>\n",
       "      <td>0</td>\n",
       "      <td>2</td>\n",
       "      <td>1</td>\n",
       "      <td>1</td>\n",
       "      <td>...</td>\n",
       "      <td>1</td>\n",
       "      <td>0</td>\n",
       "      <td>0</td>\n",
       "      <td>1</td>\n",
       "      <td>0</td>\n",
       "      <td>0</td>\n",
       "      <td>0</td>\n",
       "      <td>0</td>\n",
       "      <td>1</td>\n",
       "      <td>0</td>\n",
       "    </tr>\n",
       "  </tbody>\n",
       "</table>\n",
       "<p>5 rows × 24 columns</p>\n",
       "</div>"
      ],
      "text/plain": [
       "            Action  Adventure  Animation  Biography  Comedy  Crime  \\\n",
       "title_year                                                           \n",
       "1925.0           0          0          0          0       0      0   \n",
       "1934.0           0          0          0          0       1      0   \n",
       "1936.0           1          1          0          0       0      0   \n",
       "1938.0           0          0          0          0       1      0   \n",
       "1939.0           0          1          0          0       1      0   \n",
       "\n",
       "            Documentary  Drama  Family  Fantasy   ...     Musical  Mystery  \\\n",
       "title_year                                        ...                        \n",
       "1925.0                0      1       0        0   ...           0        0   \n",
       "1934.0                0      0       0        0   ...           0        0   \n",
       "1936.0                0      0       0        0   ...           0        0   \n",
       "1938.0                0      1       0        0   ...           0        0   \n",
       "1939.0                0      2       1        1   ...           1        0   \n",
       "\n",
       "            News  Romance  Sci-Fi  Short  Sport  Thriller  War  Western  \n",
       "title_year                                                               \n",
       "1925.0         0        1       0      0      0         0    1        0  \n",
       "1934.0         0        1       0      0      0         0    0        0  \n",
       "1936.0         0        1       0      0      0         0    1        0  \n",
       "1938.0         0        1       0      0      0         0    0        0  \n",
       "1939.0         0        1       0      0      0         0    1        0  \n",
       "\n",
       "[5 rows x 24 columns]"
      ]
     },
     "execution_count": 69,
     "metadata": {},
     "output_type": "execute_result"
    }
   ],
   "source": [
    "def f(grp):\n",
    "    return pd.Series(grp.genres.str.split('|').sum()).value_counts()\n",
    "\n",
    "year_genre_counts = imdb.groupby('title_year').apply(f).unstack(fill_value=0)\n",
    "year_genre_counts.head()"
   ]
  },
  {
   "cell_type": "markdown",
   "metadata": {},
   "source": [
    "For convenience we plot only genres with at least one year with more then 30 movies."
   ]
  },
  {
   "cell_type": "code",
   "execution_count": 78,
   "metadata": {},
   "outputs": [
    {
     "data": {
      "text/plain": [
       "Index([u'Action', u'Adventure', u'Comedy', u'Crime', u'Drama', u'Romance',\n",
       "       u'Thriller'],\n",
       "      dtype='object')"
      ]
     },
     "execution_count": 78,
     "metadata": {},
     "output_type": "execute_result"
    }
   ],
   "source": [
    "is_common_genre = (year_genre_counts > 30).any()\n",
    "common_genres = is_common_genre[is_common_genre].index\n",
    "common_genres"
   ]
  },
  {
   "cell_type": "code",
   "execution_count": 79,
   "metadata": {},
   "outputs": [
    {
     "data": {
      "text/plain": [
       "<matplotlib.axes._subplots.AxesSubplot at 0xbfd0b00>"
      ]
     },
     "execution_count": 79,
     "metadata": {},
     "output_type": "execute_result"
    },
    {
     "data": {
      "image/png": "[encoded data removed]",
      "text/plain": [
       "<matplotlib.figure.Figure at 0xd531160>"
      ]
     },
     "metadata": {},
     "output_type": "display_data"
    }
   ],
   "source": [
    "year_genre_counts[common_genres].plot(figsize=(10,5))"
   ]
  },
  {
   "cell_type": "markdown",
   "metadata": {},
   "source": [
    "## Question 3"
   ]
  },
  {
   "cell_type": "markdown",
   "metadata": {},
   "source": [
    "Which pairs of director and actor like to work together? Sort the number of co-occurrences of such pairs."
   ]
  },
  {
   "cell_type": "code",
   "execution_count": 29,
   "metadata": {},
   "outputs": [],
   "source": [
    "dir_n_act_1 = imdb.groupby('director_name')['actor_1_name'].apply(pd.Series.value_counts)\n",
    "dir_n_act_2 = imdb.groupby('director_name')['actor_2_name'].apply(pd.Series.value_counts)\n",
    "dir_n_act_3 = imdb.groupby('director_name')['actor_3_name'].apply(pd.Series.value_counts)"
   ]
  },
  {
   "cell_type": "code",
   "execution_count": 30,
   "metadata": {},
   "outputs": [
    {
     "data": {
      "text/plain": [
       "director_name                  \n",
       "Clint Eastwood   Clint Eastwood    10.0\n",
       "Woody Allen      Woody Allen       10.0\n",
       "Martin Scorsese  Robert De Niro     7.0\n",
       "Tim Burton       Johnny Depp        7.0\n",
       "Dennis Dugan     Adam Sandler       7.0\n",
       "dtype: float64"
      ]
     },
     "execution_count": 30,
     "metadata": {},
     "output_type": "execute_result"
    }
   ],
   "source": [
    "dir_n_act_1 = dir_n_act_1.to_frame()\n",
    "dir_n_act_all = dir_n_act_1.join(dir_n_act_2, how='outer').join(dir_n_act_3, how='outer')\n",
    "dir_n_act_all.sum(axis=1).sort_values(ascending=False).head()"
   ]
  }
 ],
 "metadata": {
  "anaconda-cloud": {},
  "kernelspec": {
   "display_name": "Python 2",
   "language": "python",
   "name": "python2"
  },
  "language_info": {
   "codemirror_mode": {
    "name": "ipython",
    "version": 2
   },
   "file_extension": ".py",
   "mimetype": "text/x-python",
   "name": "python",
   "nbconvert_exporter": "python",
   "pygments_lexer": "ipython2",
   "version": "2.7.14"
  }
 },
 "nbformat": 4,
 "nbformat_minor": 1
}
