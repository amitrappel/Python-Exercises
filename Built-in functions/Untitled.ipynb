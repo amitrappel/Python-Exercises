{
 "cells": [
  {
   "cell_type": "markdown",
   "metadata": {},
   "source": [
    "Order the numbers _m_ to _n_ in a row such that each pair sums up to a square."
   ]
  },
  {
   "cell_type": "code",
   "execution_count": 1,
   "metadata": {
    "collapsed": true
   },
   "outputs": [],
   "source": [
    "def get_possible_seqs_range(m, n):\n",
    "    nums = set(range(m, n+1))\n",
    "    squares = map(lambda x: x**2, range(m, int((2*n)**0.5)+1))\n",
    "    complements = dict([(num, filter(lambda x: x+num in squares, nums)) for num in nums])\n",
    "    \n",
    "    solutions = []\n",
    "    queue = [([x], nums - set([x])) for x in nums]\n",
    "    while queue:\n",
    "        seq, others = queue.pop(0)\n",
    "        for comp in complements[seq[-1]]:\n",
    "            if comp in others:\n",
    "                new_seq = seq + [comp]\n",
    "                if len(new_seq) == n - m + 1:\n",
    "                    solutions.append(new_seq)\n",
    "                else:\n",
    "                    queue.append((new_seq, others - set([comp])))\n",
    "                    \n",
    "    return solutions"
   ]
  },
  {
   "cell_type": "code",
   "execution_count": 2,
   "metadata": {
    "collapsed": false
   },
   "outputs": [
    {
     "data": {
      "text/plain": [
       "[[8, 1, 15, 10, 6, 3, 13, 12, 4, 5, 11, 14, 2, 7, 9, 16],\n",
       " [16, 9, 7, 2, 14, 11, 5, 4, 12, 13, 3, 6, 10, 15, 1, 8]]"
      ]
     },
     "execution_count": 2,
     "metadata": {},
     "output_type": "execute_result"
    }
   ],
   "source": [
    "get_possible_seqs_range(1,16)"
   ]
  },
  {
   "cell_type": "code",
   "execution_count": 11,
   "metadata": {
    "collapsed": false
   },
   "outputs": [],
   "source": [
    "def get_possible_seqs_set(nums):\n",
    "    # nums is a set\n",
    "    squares = map(lambda x: x**2, range(1, sum(nums)))\n",
    "#     complements = dict([(num, filter(lambda x: x+num in squares, nums)) for num in nums])\n",
    "    \n",
    "    solutions = []\n",
    "    queue = [([x], nums - set([x])) for x in nums]\n",
    "    while queue:\n",
    "        seq, others = queue.pop(0)\n",
    "        for comp in [num for num in nums - set(seq) if (seq[-1] + num) in squares]:\n",
    "            if comp in others:\n",
    "                new_seq = seq + [comp]\n",
    "                if len(new_seq) == len(nums):\n",
    "                    solutions.append(new_seq)\n",
    "                else:\n",
    "                    queue.append((new_seq, others - set([comp])))\n",
    "                    \n",
    "    return solutions"
   ]
  },
  {
   "cell_type": "code",
   "execution_count": 23,
   "metadata": {
    "collapsed": false
   },
   "outputs": [
    {
     "name": "stdout",
     "output_type": "stream",
     "text": [
      " 1, 4, 2, 2 - 2\n",
      " 1, 5, 2, 2 - 2\n",
      " 1,16, 1,15 - 2\n",
      " 1,17, 1,16 - 2\n",
      " 1,18, 1,17 - 2\n",
      " 1,24, 1,23 - 6\n",
      " 1,26, 1,25 - 20\n",
      " 1,27, 1,26 - 24\n",
      " 1,28, 1,27 - 70\n",
      " 1,29, 1,28 - 104\n",
      " 2,28, 1,26 - 6\n",
      " 2,29, 1,27 - 20\n",
      " 3, 7, 3, 2 - 2\n",
      " 3, 8, 3, 2 - 2\n",
      " 3, 9, 3, 2 - 2\n",
      " 3,23, 1,20 - 2\n",
      " 3,27, 1,24 - 2\n",
      " 4, 6, 1, 2 - 2\n",
      " 7,10, 2, 2 - 2\n",
      " 7,11, 2, 2 - 2\n",
      "11,15, 3, 2 - 2\n",
      "11,16, 3, 2 - 2\n",
      "11,17, 3, 2 - 2\n",
      "12,14, 1, 2 - 2\n",
      "17,20, 2, 2 - 2\n",
      "17,21, 2, 2 - 2\n",
      "DONE!\n"
     ]
    }
   ],
   "source": [
    "for i in range(1, 20):\n",
    "    for j in range(i+1, 30):\n",
    "        for k in range(1,4):\n",
    "            sols = get_possible_seqs_set(set(range(i, j, k)))\n",
    "            if sols:\n",
    "                print \"{:2},{:2},{:2},{:2} - {}\".format(i, j, k, len(range(i, j, k)), len(sols))\n",
    "print \"DONE!\""
   ]
  },
  {
   "cell_type": "code",
   "execution_count": null,
   "metadata": {
    "collapsed": true
   },
   "outputs": [],
   "source": [
    "def get_possible_seqs_dp(nums, mem=None):\n",
    "    # nums is a set\n",
    "    squares = map(lambda x: x**2, range(1, sum(nums)))\n",
    "    \n",
    "    solutions = []\n",
    "    queue = [([x], nums - set([x])) for x in nums]\n",
    "    while queue:\n",
    "        seq, others = queue.pop(0)\n",
    "        for comp in complements[seq[-1]]:\n",
    "            if comp in others:\n",
    "                new_seq = seq + [comp]\n",
    "                if len(new_seq) == len(nums):\n",
    "                    solutions.append(new_seq)\n",
    "                else:\n",
    "                    queue.append((new_seq, others - set([comp])))\n",
    "                    \n",
    "    return solutions"
   ]
  },
  {
   "cell_type": "code",
   "execution_count": null,
   "metadata": {
    "collapsed": true
   },
   "outputs": [],
   "source": []
  },
  {
   "cell_type": "code",
   "execution_count": null,
   "metadata": {
    "collapsed": false
   },
   "outputs": [],
   "source": [
    "num = 10**18\n",
    "while True:\n",
    "    x = num / 10\n",
    "    power = len(str(x))\n",
    "    y = num % 10\n",
    "    num2 = y * 10**power + x\n",
    "    if 2*num == num2:\n",
    "        print num, num2\n",
    "        break\n",
    "    num += 1"
   ]
  },
  {
   "cell_type": "code",
   "execution_count": null,
   "metadata": {
    "collapsed": true
   },
   "outputs": [],
   "source": []
  }
 ],
 "metadata": {
  "anaconda-cloud": {},
  "kernelspec": {
   "display_name": "Python [default]",
   "language": "python",
   "name": "python2"
  },
  "language_info": {
   "codemirror_mode": {
    "name": "ipython",
    "version": 2
   },
   "file_extension": ".py",
   "mimetype": "text/x-python",
   "name": "python",
   "nbconvert_exporter": "python",
   "pygments_lexer": "ipython2",
   "version": "2.7.11"
  }
 },
 "nbformat": 4,
 "nbformat_minor": 0
}
